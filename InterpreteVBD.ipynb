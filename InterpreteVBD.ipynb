{
 "cells": [
  {
   "cell_type": "code",
   "execution_count": 1,
   "metadata": {},
   "outputs": [],
   "source": [
    "import json\n",
    "import pika\n",
    "import uuid\n",
    "import threading \n",
    "import datetime\n",
    "import time\n",
    "import logging\n",
    "import random\n",
    "import requests\n",
    "import os\n",
    "from enum import Enum\n",
    "from flask import Flask, request\n",
    "from pymessenger import Element, Button\n",
    "from requests_toolbelt import MultipartEncoder\n",
    "from pymessenger import utils"
   ]
  },
  {
   "cell_type": "code",
   "execution_count": 2,
   "metadata": {},
   "outputs": [],
   "source": [
    "class NotificationType(Enum):\n",
    "    regular = \"REGULAR\"\n",
    "    silent_push = \"SILENT_PUSH\"\n",
    "    no_push = \"NO_PUSH\""
   ]
  },
  {
   "cell_type": "code",
   "execution_count": 3,
   "metadata": {},
   "outputs": [],
   "source": [
    "def verify_fb_token(token_sent):\n",
    "    if token_sent == VERIFY_TOKEN:\n",
    "        return request.args.get(\"hub.challenge\")\n",
    "    return 'Verificacion de token invalida'"
   ]
  },
  {
   "cell_type": "code",
   "execution_count": 4,
   "metadata": {},
   "outputs": [],
   "source": [
    "def enviarNucleo(recipient_id, id_face, mensaje):\n",
    "    global connection\n",
    "    global channel\n",
    "    global result\n",
    "    global callback_queue\n",
    "    global response\n",
    "    global corr_id\n",
    "        \n",
    "    cont=0\n",
    "    content=' '\n",
    "    type_resp=' '\n",
    "    if \"postback\" in mensaje[0]:\n",
    "        content=mensaje[0][\"postback\"][\"payload\"]\n",
    "        type_resp=\"postback\"\n",
    "    elif \"message\" in mensaje[0]:\n",
    "        content=mensaje[0][\"message\"][\"text\"]\n",
    "        type_resp=\"message\"\n",
    "\n",
    "    \n",
    "    entidad={}\n",
    "    estado = \"none\"\n",
    "    tipo=\"none\"\n",
    "    opciones=\"none\"            \n",
    "        \n",
    "    n=  {\"payload\": [{\"robot\":\" \",\"id_face\":\" \",\"recipient_id\":\" \",\"access_token\":\" \",\"content\":\" \",\"type_resp\":\" \",\"state\":\" \", \"blocktype\":\" \", \"opciones\":\" \", \"entitites\":\" \"}]}\n",
    "    data=json.dumps(n)\n",
    "    decoded=json.loads(data)\n",
    "    decoded[\"payload\"][0][\"robot\"]=\"none\"\n",
    "    decoded[\"payload\"][0][\"id_face\"]=id_face\n",
    "    decoded[\"payload\"][0][\"access_token\"]=\"none\"\n",
    "    decoded[\"payload\"][0][\"recipient_id\"]=recipient_id\n",
    "    decoded[\"payload\"][0][\"content\"]=content\n",
    "    decoded[\"payload\"][0][\"type_resp\"]=type_resp\n",
    "    decoded[\"payload\"][0][\"state\"]=estado\n",
    "    decoded[\"payload\"][0][\"blocktype\"]=tipo\n",
    "    decoded[\"payload\"][0][\"opciones\"]=opciones\n",
    "    decoded[\"payload\"][0][\"entities\"]= entidad\n",
    "    data_string=json.dumps(decoded)\n",
    "    print('\\n_________________________________________________________________________________________________________________________')\n",
    "    print('Mensaje enviado al Nucleo Logico-> ',data_string)\n",
    "    corr_id = str(uuid.uuid4())\n",
    "    channel.basic_publish(exchange='',\n",
    "                                routing_key='chatbotVB101',\n",
    "                                properties=pika.BasicProperties(\n",
    "                                        reply_to = callback_queue,\n",
    "                                        correlation_id = corr_id,\n",
    "                                        ),\n",
    "                                body=str(data_string))"
   ]
  },
  {
   "cell_type": "code",
   "execution_count": 5,
   "metadata": {},
   "outputs": [],
   "source": [
    "def send_message(payload,access_token):\n",
    "    api_version = 2.6\n",
    "    graph_url = 'https://graph.facebook.com/v{0}'.format(api_version)\n",
    "    request_endpoint = '{0}/me/messages'.format(graph_url)\n",
    "    auth = {'access_token': access_token}\n",
    "    print('\\n_________________________________________________________________________________________________________________________')\n",
    "    print('Mensaje enviado a la API de  Facebook')\n",
    "    print('request_endpoint-> ',request_endpoint)\n",
    "    print('ruta->',auth)\n",
    "    print('payload-> ',payload)        \n",
    "    response = requests.post(\n",
    "        request_endpoint,\n",
    "        params=auth,\n",
    "        json=payload\n",
    "    )\n",
    "    result = response.json()\n",
    "    return result"
   ]
  },
  {
   "cell_type": "code",
   "execution_count": 6,
   "metadata": {},
   "outputs": [],
   "source": [
    "def text_message(recipient_id, response,access_token):\n",
    "    payload={'message': {'text': response}, 'recipient': {'id': recipient_id}, 'notification_type': 'REGULAR'}\n",
    "    respuesta=send_message(payload,access_token)\n",
    "    return \"success\""
   ]
  },
  {
   "cell_type": "code",
   "execution_count": 7,
   "metadata": {},
   "outputs": [],
   "source": [
    "def button_message(recipient_id,content,options,access_token):\n",
    "    buttons = []\n",
    "    cont=0\n",
    "    for opc in options:\n",
    "        button = Button(title=opc, type='postback', payload=opc)\n",
    "        buttons.append(button)\n",
    "        cont=cont+1\n",
    "        if cont>2:\n",
    "            break\n",
    "    \n",
    "    payload={'message': {'attachment': {'type': 'template', 'payload': {'template_type': 'button', 'text': content, 'buttons': buttons}}}, 'recipient': {'id': recipient_id}, 'notification_type': 'REGULAR'}\n",
    "    \n",
    "    result=send_message(payload,access_token)\n",
    "    assert type(result) is dict\n",
    "    assert result.get('message_id') is not None\n",
    "    assert result.get('recipient_id') is not None"
   ]
  },
  {
   "cell_type": "code",
   "execution_count": 8,
   "metadata": {},
   "outputs": [],
   "source": [
    "def slide_message(recipient_id,content,access_token):\n",
    "    buttons =[]\n",
    "    elements=[]\n",
    "    element={'title':'', 'image_url':'', 'subtitle':'', 'buttons':[]}\n",
    "    cont=0\n",
    "    \n",
    "    for data in content: \n",
    "        buttons =[]\n",
    "        for btn in data['buttons']:\n",
    "            if btn['typeButton']=='web_url':\n",
    "                button = Button(title=btn['titleButton'], type='web_url', url=btn['urlButton'])                \n",
    "            elif btn['typeButton']=='postback':\n",
    "                button = Button(title=btn['titleButton'], type='postback', payload=btn['payloadButton'])\n",
    "            buttons.append(button)\n",
    "            cont=cont+1\n",
    "            if cont>2:\n",
    "                break\n",
    "        element={'title':data['title'], 'image_url':data['image_url'], 'subtitle':data['subtitle'], 'buttons':buttons}\n",
    "        elements.append(element)   \n",
    "    \n",
    "    payload={\"recipient\": {\"id\":recipient_id}, \"message\":{\"attachment\": {\"type\":\"template\", \"payload\": {\"template_type\":\"generic\", \"elements\":elements}}}, 'notification_type': 'REGULAR'}\n",
    "    \n",
    "    result=send_message(payload,access_token)\n",
    "    assert type(result) is dict\n",
    "    assert result.get('message_id') is not None\n",
    "    assert result.get('recipient_id') is not None"
   ]
  },
  {
   "cell_type": "code",
   "execution_count": null,
   "metadata": {},
   "outputs": [],
   "source": [
    "def ticket_message(recipient_id,content,access_token):\n",
    "    payload={\"recipient\":{\"id\":recipient_id},\"message\":{\"attachment\":{\"type\":\"template\",\"payload\":content}}}\n",
    "    \n",
    "    result=send_message(payload,access_token)\n",
    "    assert type(result) is dict\n",
    "    assert result.get('message_id') is not None\n",
    "    assert result.get('recipient_id') is not None"
   ]
  },
  {
   "cell_type": "code",
   "execution_count": null,
   "metadata": {},
   "outputs": [],
   "source": [
    "def conv(msj):\n",
    "    ans=' '\n",
    "    contenido=msj[\"Respuesta\"][0][\"content\"]\n",
    "    estado=msj[\"Respuesta\"][0][\"payload\"][0][\"state\"]\n",
    "    entidad= msj[\"Respuesta\"][0][\"payload\"][0][\"entities\"]\n",
    "    tipo= msj[\"Respuesta\"][0][\"blockType\"]\n",
    "    recipient_id=msj['Respuesta'][0]['payload'][0]['recipient_id']\n",
    "    access_token=msj['Respuesta'][0]['payload'][0]['access_token']\n",
    "    #print(str(contenido))\n",
    "       \n",
    "    if(tipo==\"quickReply\" or tipo==\"quickReplyDinamico\"):\n",
    "        button_message(recipient_id, contenido, msj[\"Respuesta\"][0][\"options\"],access_token)\n",
    "        return entidad, ans, estado, tipo, msj[\"Respuesta\"][0][\"options\"]\n",
    "        \n",
    "    elif(tipo==\"input\" or tipo==\"inputDinamico\"):\n",
    "        text_message(recipient_id, contenido,access_token)\n",
    "        return entidad, ans, estado, tipo, 'vacio'\n",
    "        \n",
    "    elif(tipo==\"informativo\" or tipo==\"informativoDinamico\"):\n",
    "        text_message(recipient_id, contenido,access_token)\n",
    "        return entidad, str('next'), estado, tipo, 'vacio'\n",
    "    \n",
    "    elif(tipo==\"slide\" or tipo==\"slideBuy\" or tipo==\"slideDinamico\"):\n",
    "        slide_message(recipient_id, contenido,access_token)\n",
    "        return entidad, str('next'), estado, tipo, 'vacio'\n",
    "    elif(tipo==\"ticket\"):\n",
    "        ticket_message(recipient_id, contenido,access_token)\n",
    "        return entidad, str('next'), estado, tipo, 'vacio'\n",
    "    else:\n",
    "        return entidad, str('hey'), estado, tipo, 'vacio'"
   ]
  },
  {
   "cell_type": "code",
   "execution_count": null,
   "metadata": {},
   "outputs": [],
   "source": [
    "class Nucleo_Cliente(threading.Thread):\n",
    "    def __init__(self, nombreHilo):        \n",
    "        threading.Thread.__init__(self, name=nombreHilo, target=Nucleo_Cliente.run)\n",
    "        self.nombrehilo=nombreHilo\n",
    "        \n",
    "    def run(self):\n",
    "        response = self.call()\n",
    "        print(\" [.] Got %r\", response)              \n",
    "        \n",
    "    def on_response(self, ch, method, props, body):\n",
    "        global response\n",
    "        global corr_id\n",
    "        if corr_id == props.correlation_id:\n",
    "            response = body\n",
    "            \n",
    "    def call(self):\n",
    "        global connection\n",
    "        global channel\n",
    "        global result\n",
    "        global callback_queue\n",
    "        global response\n",
    "        \n",
    "        cont=0\n",
    "        while(cont>=0):\n",
    "            response = None\n",
    "            while response is None:\n",
    "                connection.process_data_events()\n",
    "            \n",
    "            if len(response)>10:\n",
    "                data = json.loads(response)\n",
    "                print('\\n_________________________________________________________________________________________________________________________')\n",
    "                print('Respuesta del Nucleo Logico-> ',data)\n",
    "                entidad, resp, estado, tipo, opciones= conv(data)"
   ]
  },
  {
   "cell_type": "code",
   "execution_count": null,
   "metadata": {
    "scrolled": true
   },
   "outputs": [
    {
     "name": "stdout",
     "output_type": "stream",
     "text": [
      " * Serving Flask app \"__main__\" (lazy loading)\n",
      " * Environment: production\n",
      "   WARNING: Do not use the development server in a production environment.\n",
      "   Use a production WSGI server instead.\n",
      " * Debug mode: off\n"
     ]
    },
    {
     "name": "stderr",
     "output_type": "stream",
     "text": [
      " * Running on http://127.0.0.1:5000/ (Press CTRL+C to quit)\n",
      "127.0.0.1 - - [06/Jun/2019 08:00:46] \"POST / HTTP/1.1\" 200 -\n"
     ]
    },
    {
     "name": "stdout",
     "output_type": "stream",
     "text": [
      "\n",
      "_________________________________________________________________________________________________________________________\n",
      "Mesaje de la API de Facebook->  {'object': 'page', 'entry': [{'id': '2153123008120093', 'time': 1559826045863, 'messaging': [{'sender': {'id': '3135661523115555'}, 'recipient': {'id': '2153123008120093'}, 'timestamp': 1559826045332, 'message': {'mid': 'xcmf0uXqtDLnc1PmR0ygvOHrAXMQsku05EX78-2sNmWiGJ0SFHfFJ_ZnNtZIWQraBqAlRDj430r01f3b9ApF1Q', 'seq': 0, 'text': 'hola'}}]}]}\n",
      "\n",
      "_________________________________________________________________________________________________________________________\n",
      "Mensaje enviado al Nucleo Logico->  {\"payload\": [{\"robot\": \"none\", \"id_face\": \"2153123008120093\", \"recipient_id\": \"3135661523115555\", \"access_token\": \"none\", \"content\": \"hola\", \"type_resp\": \"message\", \"state\": \"none\", \"blocktype\": \"none\", \"opciones\": \"none\", \"entitites\": \" \", \"entities\": {}}]}\n",
      "\n",
      "_________________________________________________________________________________________________________________________\n",
      "Respuesta del Nucleo Logico->  {'Respuesta': [{'content': 'Hola, espero que estes teniendo un bonito dia', 'next_id': 'InfoRobot', 'blockType': 'informativo', 'contentType': 'text', 'typingTime': '1', 'payload': [{'content': '', 'state': 'Saludo', 'recipient_id': '3135661523115555', 'entities': {}, 'access_token': 'EAAHNkscg2TcBAPPdpr7JvPbpBMERatNnwpeJBzQb1LOR4tNWHVueapZA8b1Mk4d72WKNEdMpmz7GOg59pHoyIy7t4uJWChDDdZB9325zg9lxZAfvtC4VbMWsUwYb66UYeridurDFi4jainsZCVnlJiR42IM0VtctEXpayb5BXAZDZD'}]}]}\n",
      "\n",
      "_________________________________________________________________________________________________________________________\n",
      "Mensaje enviado a la API de  Facebook\n",
      "request_endpoint->  https://graph.facebook.com/v2.6/me/messages\n",
      "ruta-> {'access_token': 'EAAHNkscg2TcBAPPdpr7JvPbpBMERatNnwpeJBzQb1LOR4tNWHVueapZA8b1Mk4d72WKNEdMpmz7GOg59pHoyIy7t4uJWChDDdZB9325zg9lxZAfvtC4VbMWsUwYb66UYeridurDFi4jainsZCVnlJiR42IM0VtctEXpayb5BXAZDZD'}\n",
      "payload->  {'message': {'text': 'Hola, espero que estes teniendo un bonito dia'}, 'recipient': {'id': '3135661523115555'}, 'notification_type': 'REGULAR'}\n"
     ]
    },
    {
     "name": "stderr",
     "output_type": "stream",
     "text": [
      "127.0.0.1 - - [06/Jun/2019 08:00:47] \"POST / HTTP/1.1\" 200 -\n",
      "127.0.0.1 - - [06/Jun/2019 08:00:47] \"POST / HTTP/1.1\" 200 -\n"
     ]
    },
    {
     "name": "stdout",
     "output_type": "stream",
     "text": [
      "\n",
      "_________________________________________________________________________________________________________________________\n",
      "Mesaje de la API de Facebook->  {'object': 'page', 'entry': [{'id': '2153123008120093', 'time': 1559826047159, 'messaging': [{'sender': {'id': '3135661523115555'}, 'recipient': {'id': '2153123008120093'}, 'timestamp': 1559826047141, 'delivery': {'mids': ['7IxFHaO0RGrJtO73uwhwAuHrAXMQsku05EX78-2sNmW6yMt-iSCLwzROGi_e6crmSliiYm2gyv--0DVjw0eI6A'], 'watermark': 1559826046655, 'seq': 0}}]}]}\n",
      "\n",
      "_________________________________________________________________________________________________________________________\n",
      "Mesaje de la API de Facebook->  {'object': 'page', 'entry': [{'id': '2153123008120093', 'time': 1559826047188, 'messaging': [{'sender': {'id': '3135661523115555'}, 'recipient': {'id': '2153123008120093'}, 'timestamp': 1559826047177, 'delivery': {'mids': ['7IxFHaO0RGrJtO73uwhwAuHrAXMQsku05EX78-2sNmW6yMt-iSCLwzROGi_e6crmSliiYm2gyv--0DVjw0eI6A'], 'watermark': 1559826046655, 'seq': 0}}]}]}\n"
     ]
    },
    {
     "name": "stderr",
     "output_type": "stream",
     "text": [
      "127.0.0.1 - - [06/Jun/2019 08:00:54] \"POST / HTTP/1.1\" 200 -\n"
     ]
    },
    {
     "name": "stdout",
     "output_type": "stream",
     "text": [
      "\n",
      "_________________________________________________________________________________________________________________________\n",
      "Mesaje de la API de Facebook->  {'object': 'page', 'entry': [{'id': '2153123008120093', 'time': 1559826053942, 'messaging': [{'sender': {'id': '3135661523115555'}, 'recipient': {'id': '2153123008120093'}, 'timestamp': 1559826053287, 'message': {'mid': 'zrw2Q0BAi4xzOjrhNd0tweHrAXMQsku05EX78-2sNmVtHLhDn1dRNp1uDgMyUx29ej2PEfLB5c23Jq79bUz89w', 'seq': 0, 'text': 'igualmente'}}]}]}\n",
      "\n",
      "_________________________________________________________________________________________________________________________\n",
      "Mensaje enviado al Nucleo Logico->  {\"payload\": [{\"robot\": \"none\", \"id_face\": \"2153123008120093\", \"recipient_id\": \"3135661523115555\", \"access_token\": \"none\", \"content\": \"igualmente\", \"type_resp\": \"message\", \"state\": \"none\", \"blocktype\": \"none\", \"opciones\": \"none\", \"entitites\": \" \", \"entities\": {}}]}\n",
      "\n",
      "_________________________________________________________________________________________________________________________\n",
      "Respuesta del Nucleo Logico->  {'Respuesta': [{'content': 'Soy el chatbot que consulta la info de ECOBICI', 'next_id': 'OpMenu', 'blockType': 'informativo', 'contentType': 'text', 'typingTime': '1', 'payload': [{'content': '', 'state': 'InfoRobot', 'recipient_id': '3135661523115555', 'entities': {}, 'access_token': 'EAAHNkscg2TcBAPPdpr7JvPbpBMERatNnwpeJBzQb1LOR4tNWHVueapZA8b1Mk4d72WKNEdMpmz7GOg59pHoyIy7t4uJWChDDdZB9325zg9lxZAfvtC4VbMWsUwYb66UYeridurDFi4jainsZCVnlJiR42IM0VtctEXpayb5BXAZDZD'}]}]}\n",
      "\n",
      "_________________________________________________________________________________________________________________________\n",
      "Mensaje enviado a la API de  Facebook\n",
      "request_endpoint->  https://graph.facebook.com/v2.6/me/messages\n",
      "ruta-> {'access_token': 'EAAHNkscg2TcBAPPdpr7JvPbpBMERatNnwpeJBzQb1LOR4tNWHVueapZA8b1Mk4d72WKNEdMpmz7GOg59pHoyIy7t4uJWChDDdZB9325zg9lxZAfvtC4VbMWsUwYb66UYeridurDFi4jainsZCVnlJiR42IM0VtctEXpayb5BXAZDZD'}\n",
      "payload->  {'message': {'text': 'Soy el chatbot que consulta la info de ECOBICI'}, 'recipient': {'id': '3135661523115555'}, 'notification_type': 'REGULAR'}\n"
     ]
    },
    {
     "name": "stderr",
     "output_type": "stream",
     "text": [
      "127.0.0.1 - - [06/Jun/2019 08:00:55] \"POST / HTTP/1.1\" 200 -\n",
      "127.0.0.1 - - [06/Jun/2019 08:00:55] \"POST / HTTP/1.1\" 200 -\n"
     ]
    },
    {
     "name": "stdout",
     "output_type": "stream",
     "text": [
      "\n",
      "_________________________________________________________________________________________________________________________\n",
      "Mesaje de la API de Facebook->  {'object': 'page', 'entry': [{'id': '2153123008120093', 'time': 1559826055011, 'messaging': [{'sender': {'id': '3135661523115555'}, 'recipient': {'id': '2153123008120093'}, 'timestamp': 1559826054995, 'delivery': {'mids': ['BAHRfwCFYwIh2T8fhWC-X-HrAXMQsku05EX78-2sNmW71wEteSKxzAtpiqAs5cEpaI3p1O_Rsqe2kYuT1oToUA'], 'watermark': 1559826054646, 'seq': 0}}]}]}\n",
      "\n",
      "_________________________________________________________________________________________________________________________\n",
      "Mesaje de la API de Facebook->  {'object': 'page', 'entry': [{'id': '2153123008120093', 'time': 1559826055035, 'messaging': [{'sender': {'id': '3135661523115555'}, 'recipient': {'id': '2153123008120093'}, 'timestamp': 1559826055023, 'delivery': {'mids': ['BAHRfwCFYwIh2T8fhWC-X-HrAXMQsku05EX78-2sNmW71wEteSKxzAtpiqAs5cEpaI3p1O_Rsqe2kYuT1oToUA'], 'watermark': 1559826054646, 'seq': 0}}]}]}\n"
     ]
    },
    {
     "name": "stderr",
     "output_type": "stream",
     "text": [
      "127.0.0.1 - - [06/Jun/2019 08:01:00] \"POST / HTTP/1.1\" 200 -\n"
     ]
    },
    {
     "name": "stdout",
     "output_type": "stream",
     "text": [
      "\n",
      "_________________________________________________________________________________________________________________________\n",
      "Mesaje de la API de Facebook->  {'object': 'page', 'entry': [{'id': '2153123008120093', 'time': 1559826060214, 'messaging': [{'sender': {'id': '3135661523115555'}, 'recipient': {'id': '2153123008120093'}, 'timestamp': 1559826059717, 'message': {'mid': '5diNzG98jpaS6T8Y9nm_ruHrAXMQsku05EX78-2sNmUbmOPvjHEIxWveevWlN3OSJViqc39MvvhUSTMViQPmpQ', 'seq': 0, 'text': 'vale'}}]}]}\n",
      "\n",
      "_________________________________________________________________________________________________________________________\n",
      "Mensaje enviado al Nucleo Logico->  {\"payload\": [{\"robot\": \"none\", \"id_face\": \"2153123008120093\", \"recipient_id\": \"3135661523115555\", \"access_token\": \"none\", \"content\": \"vale\", \"type_resp\": \"message\", \"state\": \"none\", \"blocktype\": \"none\", \"opciones\": \"none\", \"entitites\": \" \", \"entities\": {}}]}\n",
      "\n",
      "_________________________________________________________________________________________________________________________\n",
      "Respuesta del Nucleo Logico->  {'Respuesta': [{'content': 'Qué deseas hacer', 'next_id': 'OpMenuAPI,Queja,Sugerencias', 'blockType': 'quickReply', 'contentType': ' ', 'typingTime': '1', 'payload': [{'content': '', 'state': 'OpMenu', 'recipient_id': '3135661523115555', 'entities': {}, 'access_token': 'EAAHNkscg2TcBAPPdpr7JvPbpBMERatNnwpeJBzQb1LOR4tNWHVueapZA8b1Mk4d72WKNEdMpmz7GOg59pHoyIy7t4uJWChDDdZB9325zg9lxZAfvtC4VbMWsUwYb66UYeridurDFi4jainsZCVnlJiR42IM0VtctEXpayb5BXAZDZD'}], 'options': ['Consultar API', 'Poner queja', ' Ingresar sugerencia'], 'default_id': 'OpMenu', 'save_var': 'false'}]}\n",
      "\n",
      "_________________________________________________________________________________________________________________________\n",
      "Mensaje enviado a la API de  Facebook\n",
      "request_endpoint->  https://graph.facebook.com/v2.6/me/messages\n",
      "ruta-> {'access_token': 'EAAHNkscg2TcBAPPdpr7JvPbpBMERatNnwpeJBzQb1LOR4tNWHVueapZA8b1Mk4d72WKNEdMpmz7GOg59pHoyIy7t4uJWChDDdZB9325zg9lxZAfvtC4VbMWsUwYb66UYeridurDFi4jainsZCVnlJiR42IM0VtctEXpayb5BXAZDZD'}\n",
      "payload->  {'message': {'attachment': {'type': 'template', 'payload': {'template_type': 'button', 'text': 'Qué deseas hacer', 'buttons': [{'title': 'Consultar API', 'type': 'postback', 'payload': 'Consultar API'}, {'title': 'Poner queja', 'type': 'postback', 'payload': 'Poner queja'}, {'title': ' Ingresar sugerencia', 'type': 'postback', 'payload': ' Ingresar sugerencia'}]}}}, 'recipient': {'id': '3135661523115555'}, 'notification_type': 'REGULAR'}\n"
     ]
    },
    {
     "name": "stderr",
     "output_type": "stream",
     "text": [
      "127.0.0.1 - - [06/Jun/2019 08:01:02] \"POST / HTTP/1.1\" 200 -\n",
      "127.0.0.1 - - [06/Jun/2019 08:01:02] \"POST / HTTP/1.1\" 200 -\n"
     ]
    },
    {
     "name": "stdout",
     "output_type": "stream",
     "text": [
      "\n",
      "_________________________________________________________________________________________________________________________\n",
      "Mesaje de la API de Facebook->  {'object': 'page', 'entry': [{'id': '2153123008120093', 'time': 1559826061608, 'messaging': [{'sender': {'id': '3135661523115555'}, 'recipient': {'id': '2153123008120093'}, 'timestamp': 1559826061591, 'delivery': {'mids': ['5xjfobwbSOx-pXgJK7-mm-HrAXMQsku05EX78-2sNmUdtYUhmR8ohCItD4MF6uF3hIeNWh_0dk1Uayi2Rurx_w'], 'watermark': 1559826061261, 'seq': 0}}]}]}\n",
      "\n",
      "_________________________________________________________________________________________________________________________\n",
      "Mesaje de la API de Facebook->  {'object': 'page', 'entry': [{'id': '2153123008120093', 'time': 1559826061596, 'messaging': [{'sender': {'id': '3135661523115555'}, 'recipient': {'id': '2153123008120093'}, 'timestamp': 1559826061584, 'delivery': {'mids': ['5xjfobwbSOx-pXgJK7-mm-HrAXMQsku05EX78-2sNmUdtYUhmR8ohCItD4MF6uF3hIeNWh_0dk1Uayi2Rurx_w'], 'watermark': 1559826061261, 'seq': 0}}]}]}\n"
     ]
    },
    {
     "name": "stderr",
     "output_type": "stream",
     "text": [
      "127.0.0.1 - - [06/Jun/2019 08:01:15] \"POST / HTTP/1.1\" 200 -\n"
     ]
    },
    {
     "name": "stdout",
     "output_type": "stream",
     "text": [
      "\n",
      "_________________________________________________________________________________________________________________________\n",
      "Mesaje de la API de Facebook->  {'object': 'page', 'entry': [{'id': '2153123008120093', 'time': 1559826074487, 'messaging': [{'sender': {'id': '3135661523115555'}, 'recipient': {'id': '2153123008120093'}, 'timestamp': 1559826074005, 'message': {'mid': '5h8zSxHtrsrWL9fnwMF0n-HrAXMQsku05EX78-2sNmV7Yvmruoc3CudnPLIFvBe8cCqZdZ85EPLjqUB_48XUMA', 'seq': 0, 'text': 'quiero consultar estaciones'}}]}]}\n",
      "\n",
      "_________________________________________________________________________________________________________________________\n",
      "Mensaje enviado al Nucleo Logico->  {\"payload\": [{\"robot\": \"none\", \"id_face\": \"2153123008120093\", \"recipient_id\": \"3135661523115555\", \"access_token\": \"none\", \"content\": \"quiero consultar estaciones\", \"type_resp\": \"message\", \"state\": \"none\", \"blocktype\": \"none\", \"opciones\": \"none\", \"entitites\": \" \", \"entities\": {}}]}\n",
      "\n",
      "_________________________________________________________________________________________________________________________\n",
      "Respuesta del Nucleo Logico->  {'Respuesta': [{'content': [{'title': 'Estacion con id 448', 'image_url': 'https://www.ecobici.cdmx.gob.mx/sites/default/files/u14/en_bicicletas-2.png', 'subtitle': 'Direccion = DR. ANDRADE ARCOS DE BELÉN', 'buttons': [{'titleButton': 'Consultar', 'typeButton': 'postback', 'payloadButton': '448'}, {'titleButton': 'Más estaciones', 'typeButton': 'postback', 'payloadButton': 'ConsultarEstaciones'}]}, {'title': 'Estacion con id 443', 'image_url': 'https://www.ecobici.cdmx.gob.mx/sites/default/files/u14/en_bicicletas-2.png', 'subtitle': 'Direccion = 443 - Bruno Trave-Avenida México-Coyoacan', 'buttons': [{'titleButton': 'Consultar', 'typeButton': 'postback', 'payloadButton': '443'}, {'titleButton': 'Más estaciones', 'typeButton': 'postback', 'payloadButton': 'ConsultarEstaciones'}]}, {'title': 'Estacion con id 463', 'image_url': 'https://www.ecobici.cdmx.gob.mx/sites/default/files/u14/en_bicicletas-2.png', 'subtitle': 'Direccion = 463 LAGO ANDRÓMACO-LAGO ZURICH', 'buttons': [{'titleButton': 'Consultar', 'typeButton': 'postback', 'payloadButton': '463'}, {'titleButton': 'Más estaciones', 'typeButton': 'postback', 'payloadButton': 'ConsultarEstaciones'}]}, {'title': 'Estacion con id 416', 'image_url': 'https://www.ecobici.cdmx.gob.mx/sites/default/files/u14/en_bicicletas-2.png', 'subtitle': 'Direccion = 416 - Recreo-Parroquía', 'buttons': [{'titleButton': 'Consultar', 'typeButton': 'postback', 'payloadButton': '416'}, {'titleButton': 'Más estaciones', 'typeButton': 'postback', 'payloadButton': 'ConsultarEstaciones'}]}, {'title': 'Estacion con id 437', 'image_url': 'https://www.ecobici.cdmx.gob.mx/sites/default/files/u14/en_bicicletas-2.png', 'subtitle': 'Direccion = 437 - Moras-Comunal', 'buttons': [{'titleButton': 'Consultar', 'typeButton': 'postback', 'payloadButton': '437'}, {'titleButton': 'Más estaciones', 'typeButton': 'postback', 'payloadButton': 'ConsultarEstaciones'}]}, {'title': 'Estacion con id 438', 'image_url': 'https://www.ecobici.cdmx.gob.mx/sites/default/files/u14/en_bicicletas-2.png', 'subtitle': 'Direccion = 438 - Adolfo Prieto-José María Olloqui', 'buttons': [{'titleButton': 'Consultar', 'typeButton': 'postback', 'payloadButton': '438'}, {'titleButton': 'Más estaciones', 'typeButton': 'postback', 'payloadButton': 'ConsultarEstaciones'}]}, {'title': 'Estacion con id 440', 'image_url': 'https://www.ecobici.cdmx.gob.mx/sites/default/files/u14/en_bicicletas-2.png', 'subtitle': 'Direccion = 440 - Real De Mayorazgo-Puente Xoco', 'buttons': [{'titleButton': 'Consultar', 'typeButton': 'postback', 'payloadButton': '440'}, {'titleButton': 'Más estaciones', 'typeButton': 'postback', 'payloadButton': 'ConsultarEstaciones'}]}, {'title': 'Estacion con id 347', 'image_url': 'https://www.ecobici.cdmx.gob.mx/sites/default/files/u14/en_bicicletas-2.png', 'subtitle': 'Direccion = 347 - Pennsylvania-Maximino Avila Camacho', 'buttons': [{'titleButton': 'Consultar', 'typeButton': 'postback', 'payloadButton': '347'}, {'titleButton': 'Más estaciones', 'typeButton': 'postback', 'payloadButton': 'ConsultarEstaciones'}]}, {'title': 'Estacion con id 350', 'image_url': 'https://www.ecobici.cdmx.gob.mx/sites/default/files/u14/en_bicicletas-2.png', 'subtitle': 'Direccion = 350 - Jose Clemente Orozco-Correggio', 'buttons': [{'titleButton': 'Consultar', 'typeButton': 'postback', 'payloadButton': '350'}, {'titleButton': 'Más estaciones', 'typeButton': 'postback', 'payloadButton': 'ConsultarEstaciones'}]}, {'title': 'Estacion con id 356', 'image_url': 'https://www.ecobici.cdmx.gob.mx/sites/default/files/u14/en_bicicletas-2.png', 'subtitle': 'Direccion = 356 - Matias Romero -Adolfo Prieto', 'buttons': [{'titleButton': 'Consultar', 'typeButton': 'postback', 'payloadButton': '356'}, {'titleButton': 'Más estaciones', 'typeButton': 'postback', 'payloadButton': 'ConsultarEstaciones'}]}], 'next_id': 'ConsultarEstaciones', 'blockType': 'slideDinamico', 'contentType': ' ', 'typingTime': '1', 'payload': [{'content': '', 'state': 'ConsultarEstaciones', 'recipient_id': '3135661523115555', 'entities': {'actual_pos': 10}, 'access_token': 'EAAHNkscg2TcBAPPdpr7JvPbpBMERatNnwpeJBzQb1LOR4tNWHVueapZA8b1Mk4d72WKNEdMpmz7GOg59pHoyIy7t4uJWChDDdZB9325zg9lxZAfvtC4VbMWsUwYb66UYeridurDFi4jainsZCVnlJiR42IM0VtctEXpayb5BXAZDZD'}]}]}\n",
      "\n",
      "_________________________________________________________________________________________________________________________\n",
      "Mensaje enviado a la API de  Facebook\n",
      "request_endpoint->  https://graph.facebook.com/v2.6/me/messages\n",
      "ruta-> {'access_token': 'EAAHNkscg2TcBAPPdpr7JvPbpBMERatNnwpeJBzQb1LOR4tNWHVueapZA8b1Mk4d72WKNEdMpmz7GOg59pHoyIy7t4uJWChDDdZB9325zg9lxZAfvtC4VbMWsUwYb66UYeridurDFi4jainsZCVnlJiR42IM0VtctEXpayb5BXAZDZD'}\n",
      "payload->  {'recipient': {'id': '3135661523115555'}, 'message': {'attachment': {'type': 'template', 'payload': {'template_type': 'generic', 'elements': [{'title': 'Estacion con id 448', 'image_url': 'https://www.ecobici.cdmx.gob.mx/sites/default/files/u14/en_bicicletas-2.png', 'subtitle': 'Direccion = DR. ANDRADE ARCOS DE BELÉN', 'buttons': [{'title': 'Consultar', 'type': 'postback', 'payload': '448'}, {'title': 'Más estaciones', 'type': 'postback', 'payload': 'ConsultarEstaciones'}]}, {'title': 'Estacion con id 443', 'image_url': 'https://www.ecobici.cdmx.gob.mx/sites/default/files/u14/en_bicicletas-2.png', 'subtitle': 'Direccion = 443 - Bruno Trave-Avenida México-Coyoacan', 'buttons': [{'title': 'Consultar', 'type': 'postback', 'payload': '443'}]}, {'title': 'Estacion con id 463', 'image_url': 'https://www.ecobici.cdmx.gob.mx/sites/default/files/u14/en_bicicletas-2.png', 'subtitle': 'Direccion = 463 LAGO ANDRÓMACO-LAGO ZURICH', 'buttons': [{'title': 'Consultar', 'type': 'postback', 'payload': '463'}]}, {'title': 'Estacion con id 416', 'image_url': 'https://www.ecobici.cdmx.gob.mx/sites/default/files/u14/en_bicicletas-2.png', 'subtitle': 'Direccion = 416 - Recreo-Parroquía', 'buttons': [{'title': 'Consultar', 'type': 'postback', 'payload': '416'}]}, {'title': 'Estacion con id 437', 'image_url': 'https://www.ecobici.cdmx.gob.mx/sites/default/files/u14/en_bicicletas-2.png', 'subtitle': 'Direccion = 437 - Moras-Comunal', 'buttons': [{'title': 'Consultar', 'type': 'postback', 'payload': '437'}]}, {'title': 'Estacion con id 438', 'image_url': 'https://www.ecobici.cdmx.gob.mx/sites/default/files/u14/en_bicicletas-2.png', 'subtitle': 'Direccion = 438 - Adolfo Prieto-José María Olloqui', 'buttons': [{'title': 'Consultar', 'type': 'postback', 'payload': '438'}]}, {'title': 'Estacion con id 440', 'image_url': 'https://www.ecobici.cdmx.gob.mx/sites/default/files/u14/en_bicicletas-2.png', 'subtitle': 'Direccion = 440 - Real De Mayorazgo-Puente Xoco', 'buttons': [{'title': 'Consultar', 'type': 'postback', 'payload': '440'}]}, {'title': 'Estacion con id 347', 'image_url': 'https://www.ecobici.cdmx.gob.mx/sites/default/files/u14/en_bicicletas-2.png', 'subtitle': 'Direccion = 347 - Pennsylvania-Maximino Avila Camacho', 'buttons': [{'title': 'Consultar', 'type': 'postback', 'payload': '347'}]}, {'title': 'Estacion con id 350', 'image_url': 'https://www.ecobici.cdmx.gob.mx/sites/default/files/u14/en_bicicletas-2.png', 'subtitle': 'Direccion = 350 - Jose Clemente Orozco-Correggio', 'buttons': [{'title': 'Consultar', 'type': 'postback', 'payload': '350'}]}, {'title': 'Estacion con id 356', 'image_url': 'https://www.ecobici.cdmx.gob.mx/sites/default/files/u14/en_bicicletas-2.png', 'subtitle': 'Direccion = 356 - Matias Romero -Adolfo Prieto', 'buttons': [{'title': 'Consultar', 'type': 'postback', 'payload': '356'}]}]}}}, 'notification_type': 'REGULAR'}\n"
     ]
    },
    {
     "name": "stderr",
     "output_type": "stream",
     "text": [
      "127.0.0.1 - - [06/Jun/2019 08:01:20] \"POST / HTTP/1.1\" 200 -\n",
      "127.0.0.1 - - [06/Jun/2019 08:01:20] \"POST / HTTP/1.1\" 200 -\n"
     ]
    },
    {
     "name": "stdout",
     "output_type": "stream",
     "text": [
      "\n",
      "_________________________________________________________________________________________________________________________\n",
      "Mesaje de la API de Facebook->  {'object': 'page', 'entry': [{'id': '2153123008120093', 'time': 1559826079857, 'messaging': [{'sender': {'id': '3135661523115555'}, 'recipient': {'id': '2153123008120093'}, 'timestamp': 1559826079845, 'delivery': {'mids': ['ubP0RQSgc0QrJI8G2ihkAOHrAXMQsku05EX78-2sNmVJLzw23gDgAEwp37VHjsZ4wIoA4AeAciHYP88nunDFOQ'], 'watermark': 1559826079342, 'seq': 0}}]}]}\n",
      "\n",
      "_________________________________________________________________________________________________________________________\n",
      "Mesaje de la API de Facebook->  {'object': 'page', 'entry': [{'id': '2153123008120093', 'time': 1559826079957, 'messaging': [{'sender': {'id': '3135661523115555'}, 'recipient': {'id': '2153123008120093'}, 'timestamp': 1559826079945, 'delivery': {'mids': ['ubP0RQSgc0QrJI8G2ihkAOHrAXMQsku05EX78-2sNmVJLzw23gDgAEwp37VHjsZ4wIoA4AeAciHYP88nunDFOQ'], 'watermark': 1559826079342, 'seq': 0}}]}]}\n"
     ]
    },
    {
     "name": "stderr",
     "output_type": "stream",
     "text": [
      "127.0.0.1 - - [06/Jun/2019 08:02:14] \"POST / HTTP/1.1\" 200 -\n"
     ]
    },
    {
     "name": "stdout",
     "output_type": "stream",
     "text": [
      "\n",
      "_________________________________________________________________________________________________________________________\n",
      "Mesaje de la API de Facebook->  {'object': 'page', 'entry': [{'id': '2153123008120093', 'time': 1559826133312, 'messaging': [{'sender': {'id': '3135661523115555'}, 'recipient': {'id': '2153123008120093'}, 'timestamp': 1559826132868, 'postback': {'title': 'Consultar', 'payload': '443'}}]}]}\n",
      "\n",
      "_________________________________________________________________________________________________________________________\n",
      "Mensaje enviado al Nucleo Logico->  {\"payload\": [{\"robot\": \"none\", \"id_face\": \"2153123008120093\", \"recipient_id\": \"3135661523115555\", \"access_token\": \"none\", \"content\": \"443\", \"type_resp\": \"postback\", \"state\": \"none\", \"blocktype\": \"none\", \"opciones\": \"none\", \"entitites\": \" \", \"entities\": {}}]}\n",
      "\n",
      "_________________________________________________________________________________________________________________________\n",
      "Respuesta del Nucleo Logico->  {'Respuesta': [{'content': 'La estacion con id 443 tiene un estado  y cuenta con un total de  bicicletas disponibles', 'next_id': 'Salida', 'blockType': 'informativoDinamico', 'contentType': 'text', 'typingTime': '1', 'payload': [{'content': '', 'state': 'DatosEstacion', 'recipient_id': '3135661523115555', 'entities': {'actual_pos': 10, 'VarTipoDato': 'id', 'VarSEstacion': '443'}, 'access_token': 'EAAHNkscg2TcBAPPdpr7JvPbpBMERatNnwpeJBzQb1LOR4tNWHVueapZA8b1Mk4d72WKNEdMpmz7GOg59pHoyIy7t4uJWChDDdZB9325zg9lxZAfvtC4VbMWsUwYb66UYeridurDFi4jainsZCVnlJiR42IM0VtctEXpayb5BXAZDZD'}]}]}\n",
      "\n",
      "_________________________________________________________________________________________________________________________\n",
      "Mensaje enviado a la API de  Facebook\n",
      "request_endpoint->  https://graph.facebook.com/v2.6/me/messages\n",
      "ruta-> {'access_token': 'EAAHNkscg2TcBAPPdpr7JvPbpBMERatNnwpeJBzQb1LOR4tNWHVueapZA8b1Mk4d72WKNEdMpmz7GOg59pHoyIy7t4uJWChDDdZB9325zg9lxZAfvtC4VbMWsUwYb66UYeridurDFi4jainsZCVnlJiR42IM0VtctEXpayb5BXAZDZD'}\n",
      "payload->  {'message': {'text': 'La estacion con id 443 tiene un estado  y cuenta con un total de  bicicletas disponibles'}, 'recipient': {'id': '3135661523115555'}, 'notification_type': 'REGULAR'}\n"
     ]
    },
    {
     "name": "stderr",
     "output_type": "stream",
     "text": [
      "127.0.0.1 - - [06/Jun/2019 08:02:17] \"POST / HTTP/1.1\" 200 -\n",
      "127.0.0.1 - - [06/Jun/2019 08:02:17] \"POST / HTTP/1.1\" 200 -\n"
     ]
    },
    {
     "name": "stdout",
     "output_type": "stream",
     "text": [
      "\n",
      "_________________________________________________________________________________________________________________________\n",
      "Mesaje de la API de Facebook->  {'object': 'page', 'entry': [{'id': '2153123008120093', 'time': 1559826136289, 'messaging': [{'sender': {'id': '3135661523115555'}, 'recipient': {'id': '2153123008120093'}, 'timestamp': 1559826136278, 'delivery': {'mids': ['5fEdsKAxRNY-y4ZPIA-iMeHrAXMQsku05EX78-2sNmUhNa6RwL7ZDJxubnBLeKMAnBI4nwbbbCXZOw6mIqvmuw'], 'watermark': 1559826135891, 'seq': 0}}]}]}\n",
      "\n",
      "_________________________________________________________________________________________________________________________\n",
      "Mesaje de la API de Facebook->  {'object': 'page', 'entry': [{'id': '2153123008120093', 'time': 1559826136301, 'messaging': [{'sender': {'id': '3135661523115555'}, 'recipient': {'id': '2153123008120093'}, 'timestamp': 1559826136291, 'delivery': {'mids': ['5fEdsKAxRNY-y4ZPIA-iMeHrAXMQsku05EX78-2sNmUhNa6RwL7ZDJxubnBLeKMAnBI4nwbbbCXZOw6mIqvmuw'], 'watermark': 1559826135891, 'seq': 0}}]}]}\n"
     ]
    },
    {
     "name": "stderr",
     "output_type": "stream",
     "text": [
      "127.0.0.1 - - [06/Jun/2019 08:02:24] \"POST / HTTP/1.1\" 200 -\n"
     ]
    },
    {
     "name": "stdout",
     "output_type": "stream",
     "text": [
      "\n",
      "_________________________________________________________________________________________________________________________\n",
      "Mesaje de la API de Facebook->  {'object': 'page', 'entry': [{'id': '2153123008120093', 'time': 1559826143487, 'messaging': [{'sender': {'id': '3135661523115555'}, 'recipient': {'id': '2153123008120093'}, 'timestamp': 1559826143012, 'message': {'mid': '7Ooi7u-9Df60R47pi4QjOeHrAXMQsku05EX78-2sNmXuTDF0b38Y4PSrwwBWDT3gNMoErJSsPFtSr_jM3abChQ', 'seq': 0, 'text': 'Gracias'}}]}]}\n",
      "\n",
      "_________________________________________________________________________________________________________________________\n",
      "Mensaje enviado al Nucleo Logico->  {\"payload\": [{\"robot\": \"none\", \"id_face\": \"2153123008120093\", \"recipient_id\": \"3135661523115555\", \"access_token\": \"none\", \"content\": \"Gracias\", \"type_resp\": \"message\", \"state\": \"none\", \"blocktype\": \"none\", \"opciones\": \"none\", \"entitites\": \" \", \"entities\": {}}]}\n",
      "\n",
      "_________________________________________________________________________________________________________________________\n",
      "Respuesta del Nucleo Logico->  {'Respuesta': [{'content': 'Gracias por su visita, vuelva pronto', 'next_id': 'Saludo', 'blockType': 'informativo', 'contentType': 'text', 'typingTime': '1', 'payload': [{'content': '', 'state': 'Salida', 'recipient_id': '3135661523115555', 'entities': {'actual_pos': 10, 'VarTipoDato': 'id', 'VarSEstacion': '443'}, 'access_token': 'EAAHNkscg2TcBAPPdpr7JvPbpBMERatNnwpeJBzQb1LOR4tNWHVueapZA8b1Mk4d72WKNEdMpmz7GOg59pHoyIy7t4uJWChDDdZB9325zg9lxZAfvtC4VbMWsUwYb66UYeridurDFi4jainsZCVnlJiR42IM0VtctEXpayb5BXAZDZD'}]}]}\n",
      "\n",
      "_________________________________________________________________________________________________________________________\n",
      "Mensaje enviado a la API de  Facebook\n",
      "request_endpoint->  https://graph.facebook.com/v2.6/me/messages\n",
      "ruta-> {'access_token': 'EAAHNkscg2TcBAPPdpr7JvPbpBMERatNnwpeJBzQb1LOR4tNWHVueapZA8b1Mk4d72WKNEdMpmz7GOg59pHoyIy7t4uJWChDDdZB9325zg9lxZAfvtC4VbMWsUwYb66UYeridurDFi4jainsZCVnlJiR42IM0VtctEXpayb5BXAZDZD'}\n",
      "payload->  {'message': {'text': 'Gracias por su visita, vuelva pronto'}, 'recipient': {'id': '3135661523115555'}, 'notification_type': 'REGULAR'}\n"
     ]
    },
    {
     "name": "stderr",
     "output_type": "stream",
     "text": [
      "127.0.0.1 - - [06/Jun/2019 08:02:25] \"POST / HTTP/1.1\" 200 -\n",
      "127.0.0.1 - - [06/Jun/2019 08:02:25] \"POST / HTTP/1.1\" 200 -\n"
     ]
    },
    {
     "name": "stdout",
     "output_type": "stream",
     "text": [
      "\n",
      "_________________________________________________________________________________________________________________________\n",
      "Mesaje de la API de Facebook->  {'object': 'page', 'entry': [{'id': '2153123008120093', 'time': 1559826144571, 'messaging': [{'sender': {'id': '3135661523115555'}, 'recipient': {'id': '2153123008120093'}, 'timestamp': 1559826144560, 'delivery': {'mids': ['bskO5OTtYhV2tUCzv3lEEOHrAXMQsku05EX78-2sNmXj_XK-z5jeBmx5ZnzmhPhVfrapPXeJ_fFQM_289IA9eA'], 'watermark': 1559826144214, 'seq': 0}}]}]}\n",
      "\n",
      "_________________________________________________________________________________________________________________________\n",
      "Mesaje de la API de Facebook->  {'object': 'page', 'entry': [{'id': '2153123008120093', 'time': 1559826144599, 'messaging': [{'sender': {'id': '3135661523115555'}, 'recipient': {'id': '2153123008120093'}, 'timestamp': 1559826144587, 'delivery': {'mids': ['bskO5OTtYhV2tUCzv3lEEOHrAXMQsku05EX78-2sNmXj_XK-z5jeBmx5ZnzmhPhVfrapPXeJ_fFQM_289IA9eA'], 'watermark': 1559826144214, 'seq': 0}}]}]}\n"
     ]
    },
    {
     "name": "stderr",
     "output_type": "stream",
     "text": [
      "127.0.0.1 - - [06/Jun/2019 08:02:39] \"POST / HTTP/1.1\" 200 -\n"
     ]
    },
    {
     "name": "stdout",
     "output_type": "stream",
     "text": [
      "\n",
      "_________________________________________________________________________________________________________________________\n",
      "Mesaje de la API de Facebook->  {'object': 'page', 'entry': [{'id': '2153123008120093', 'time': 1559826159228, 'messaging': [{'sender': {'id': '3135661523115555'}, 'recipient': {'id': '2153123008120093'}, 'timestamp': 1559826158744, 'message': {'mid': 'VBbpNOCBPwmVBApP2mgAeOHrAXMQsku05EX78-2sNmXOWhobh0spXmCaXCwSSYpW5TcA51k0DKQDSttMfcNsFQ', 'seq': 0, 'text': 'hola otra vez'}}]}]}\n",
      "\n",
      "_________________________________________________________________________________________________________________________\n",
      "Mensaje enviado al Nucleo Logico->  {\"payload\": [{\"robot\": \"none\", \"id_face\": \"2153123008120093\", \"recipient_id\": \"3135661523115555\", \"access_token\": \"none\", \"content\": \"hola otra vez\", \"type_resp\": \"message\", \"state\": \"none\", \"blocktype\": \"none\", \"opciones\": \"none\", \"entitites\": \" \", \"entities\": {}}]}\n",
      "\n",
      "_________________________________________________________________________________________________________________________\n",
      "Respuesta del Nucleo Logico->  {'Respuesta': [{'content': 'Hola, espero que estes teniendo un bonito dia', 'next_id': 'InfoRobot', 'blockType': 'informativo', 'contentType': 'text', 'typingTime': '1', 'payload': [{'content': '', 'state': 'Saludo', 'recipient_id': '3135661523115555', 'entities': {'actual_pos': 10, 'VarTipoDato': 'id', 'VarSEstacion': '443'}, 'access_token': 'EAAHNkscg2TcBAPPdpr7JvPbpBMERatNnwpeJBzQb1LOR4tNWHVueapZA8b1Mk4d72WKNEdMpmz7GOg59pHoyIy7t4uJWChDDdZB9325zg9lxZAfvtC4VbMWsUwYb66UYeridurDFi4jainsZCVnlJiR42IM0VtctEXpayb5BXAZDZD'}]}]}\n",
      "\n",
      "_________________________________________________________________________________________________________________________\n",
      "Mensaje enviado a la API de  Facebook\n",
      "request_endpoint->  https://graph.facebook.com/v2.6/me/messages\n",
      "ruta-> {'access_token': 'EAAHNkscg2TcBAPPdpr7JvPbpBMERatNnwpeJBzQb1LOR4tNWHVueapZA8b1Mk4d72WKNEdMpmz7GOg59pHoyIy7t4uJWChDDdZB9325zg9lxZAfvtC4VbMWsUwYb66UYeridurDFi4jainsZCVnlJiR42IM0VtctEXpayb5BXAZDZD'}\n",
      "payload->  {'message': {'text': 'Hola, espero que estes teniendo un bonito dia'}, 'recipient': {'id': '3135661523115555'}, 'notification_type': 'REGULAR'}\n"
     ]
    },
    {
     "name": "stderr",
     "output_type": "stream",
     "text": [
      "127.0.0.1 - - [06/Jun/2019 08:02:41] \"POST / HTTP/1.1\" 200 -\n",
      "127.0.0.1 - - [06/Jun/2019 08:02:41] \"POST / HTTP/1.1\" 200 -\n"
     ]
    },
    {
     "name": "stdout",
     "output_type": "stream",
     "text": [
      "\n",
      "_________________________________________________________________________________________________________________________\n",
      "Mesaje de la API de Facebook->  {'object': 'page', 'entry': [{'id': '2153123008120093', 'time': 1559826160259, 'messaging': [{'sender': {'id': '3135661523115555'}, 'recipient': {'id': '2153123008120093'}, 'timestamp': 1559826160246, 'delivery': {'mids': ['petXYQyYyeBFFQx1oGdw_-HrAXMQsku05EX78-2sNmVyt_4vIlU8G_NpP_wPDXfiE4vTX3iSZyfn52Sa-dkQTQ'], 'watermark': 1559826159917, 'seq': 0}}]}]}\n",
      "\n",
      "_________________________________________________________________________________________________________________________\n",
      "Mesaje de la API de Facebook->  {'object': 'page', 'entry': [{'id': '2153123008120093', 'time': 1559826160271, 'messaging': [{'sender': {'id': '3135661523115555'}, 'recipient': {'id': '2153123008120093'}, 'timestamp': 1559826160260, 'delivery': {'mids': ['petXYQyYyeBFFQx1oGdw_-HrAXMQsku05EX78-2sNmVyt_4vIlU8G_NpP_wPDXfiE4vTX3iSZyfn52Sa-dkQTQ'], 'watermark': 1559826159917, 'seq': 0}}]}]}\n"
     ]
    },
    {
     "name": "stderr",
     "output_type": "stream",
     "text": [
      "127.0.0.1 - - [06/Jun/2019 08:03:13] \"POST / HTTP/1.1\" 200 -\n"
     ]
    },
    {
     "name": "stdout",
     "output_type": "stream",
     "text": [
      "\n",
      "_________________________________________________________________________________________________________________________\n",
      "Mesaje de la API de Facebook->  {'object': 'page', 'entry': [{'id': '2153123008120093', 'time': 1559826192342, 'messaging': [{'sender': {'id': '3135661523115555'}, 'recipient': {'id': '2153123008120093'}, 'timestamp': 1559826191920, 'message': {'mid': 'OnVhslxuzx4bAAA8HnU2EeHrAXMQsku05EX78-2sNmWJUzmVUvl7omTSfHdfaJjQWiBHlNuk6EJce28hIes56g', 'seq': 0, 'text': 'Igualmente, prueba 2'}}]}]}\n",
      "\n",
      "_________________________________________________________________________________________________________________________\n",
      "Mensaje enviado al Nucleo Logico->  {\"payload\": [{\"robot\": \"none\", \"id_face\": \"2153123008120093\", \"recipient_id\": \"3135661523115555\", \"access_token\": \"none\", \"content\": \"Igualmente, prueba 2\", \"type_resp\": \"message\", \"state\": \"none\", \"blocktype\": \"none\", \"opciones\": \"none\", \"entitites\": \" \", \"entities\": {}}]}\n",
      "\n",
      "_________________________________________________________________________________________________________________________\n",
      "Respuesta del Nucleo Logico->  {'Respuesta': [{'content': 'Soy el chatbot que consulta la info de ECOBICI', 'next_id': 'OpMenu', 'blockType': 'informativo', 'contentType': 'text', 'typingTime': '1', 'payload': [{'content': '', 'state': 'InfoRobot', 'recipient_id': '3135661523115555', 'entities': {'actual_pos': 10, 'VarTipoDato': 'id', 'VarSEstacion': '443'}, 'access_token': 'EAAHNkscg2TcBAPPdpr7JvPbpBMERatNnwpeJBzQb1LOR4tNWHVueapZA8b1Mk4d72WKNEdMpmz7GOg59pHoyIy7t4uJWChDDdZB9325zg9lxZAfvtC4VbMWsUwYb66UYeridurDFi4jainsZCVnlJiR42IM0VtctEXpayb5BXAZDZD'}]}]}\n",
      "\n",
      "_________________________________________________________________________________________________________________________\n",
      "Mensaje enviado a la API de  Facebook\n",
      "request_endpoint->  https://graph.facebook.com/v2.6/me/messages\n",
      "ruta-> {'access_token': 'EAAHNkscg2TcBAPPdpr7JvPbpBMERatNnwpeJBzQb1LOR4tNWHVueapZA8b1Mk4d72WKNEdMpmz7GOg59pHoyIy7t4uJWChDDdZB9325zg9lxZAfvtC4VbMWsUwYb66UYeridurDFi4jainsZCVnlJiR42IM0VtctEXpayb5BXAZDZD'}\n",
      "payload->  {'message': {'text': 'Soy el chatbot que consulta la info de ECOBICI'}, 'recipient': {'id': '3135661523115555'}, 'notification_type': 'REGULAR'}\n"
     ]
    },
    {
     "name": "stderr",
     "output_type": "stream",
     "text": [
      "127.0.0.1 - - [06/Jun/2019 08:03:14] \"POST / HTTP/1.1\" 200 -\n"
     ]
    },
    {
     "name": "stdout",
     "output_type": "stream",
     "text": [
      "\n",
      "_________________________________________________________________________________________________________________________\n",
      "Mesaje de la API de Facebook->  {'object': 'page', 'entry': [{'id': '2153123008120093', 'time': 1559826193320, 'messaging': [{'sender': {'id': '3135661523115555'}, 'recipient': {'id': '2153123008120093'}, 'timestamp': 1559826193308, 'delivery': {'mids': ['yKiuj4fS0XoZOx6yWlkhNuHrAXMQsku05EX78-2sNmWKkORgSlwXd9DyfGQMjr7N8gxujh798cB7nciP9FBu1Q'], 'watermark': 1559826193021, 'seq': 0}}]}]}\n"
     ]
    },
    {
     "name": "stderr",
     "output_type": "stream",
     "text": [
      "127.0.0.1 - - [06/Jun/2019 08:03:14] \"POST / HTTP/1.1\" 200 -\n"
     ]
    },
    {
     "name": "stdout",
     "output_type": "stream",
     "text": [
      "\n",
      "_________________________________________________________________________________________________________________________\n",
      "Mesaje de la API de Facebook->  {'object': 'page', 'entry': [{'id': '2153123008120093', 'time': 1559826193727, 'messaging': [{'sender': {'id': '3135661523115555'}, 'recipient': {'id': '2153123008120093'}, 'timestamp': 1559826193644, 'delivery': {'mids': ['yKiuj4fS0XoZOx6yWlkhNuHrAXMQsku05EX78-2sNmWKkORgSlwXd9DyfGQMjr7N8gxujh798cB7nciP9FBu1Q'], 'watermark': 1559826193021, 'seq': 0}}]}]}\n"
     ]
    },
    {
     "name": "stderr",
     "output_type": "stream",
     "text": [
      "127.0.0.1 - - [06/Jun/2019 08:03:20] \"POST / HTTP/1.1\" 200 -\n"
     ]
    },
    {
     "name": "stdout",
     "output_type": "stream",
     "text": [
      "\n",
      "_________________________________________________________________________________________________________________________\n",
      "Mesaje de la API de Facebook->  {'object': 'page', 'entry': [{'id': '2153123008120093', 'time': 1559826199516, 'messaging': [{'sender': {'id': '3135661523115555'}, 'recipient': {'id': '2153123008120093'}, 'timestamp': 1559826199110, 'message': {'mid': 'i7tVGcJ5wIRFVH6e3j7JuuHrAXMQsku05EX78-2sNmVY6CTwhAabCD7M1a-4tSuul8QMajkcCbuPg5WABPx8kA', 'seq': 0, 'text': 'Excelente'}}]}]}\n",
      "\n",
      "_________________________________________________________________________________________________________________________\n",
      "Mensaje enviado al Nucleo Logico->  {\"payload\": [{\"robot\": \"none\", \"id_face\": \"2153123008120093\", \"recipient_id\": \"3135661523115555\", \"access_token\": \"none\", \"content\": \"Excelente\", \"type_resp\": \"message\", \"state\": \"none\", \"blocktype\": \"none\", \"opciones\": \"none\", \"entitites\": \" \", \"entities\": {}}]}\n",
      "\n",
      "_________________________________________________________________________________________________________________________\n",
      "Respuesta del Nucleo Logico->  {'Respuesta': [{'content': 'Qué deseas hacer', 'next_id': 'OpMenuAPI,Queja,Sugerencias', 'blockType': 'quickReply', 'contentType': ' ', 'typingTime': '1', 'payload': [{'content': '', 'state': 'OpMenu', 'recipient_id': '3135661523115555', 'entities': {'actual_pos': 10, 'VarTipoDato': 'id', 'VarSEstacion': '443'}, 'access_token': 'EAAHNkscg2TcBAPPdpr7JvPbpBMERatNnwpeJBzQb1LOR4tNWHVueapZA8b1Mk4d72WKNEdMpmz7GOg59pHoyIy7t4uJWChDDdZB9325zg9lxZAfvtC4VbMWsUwYb66UYeridurDFi4jainsZCVnlJiR42IM0VtctEXpayb5BXAZDZD'}], 'options': ['Consultar API', 'Poner queja', ' Ingresar sugerencia'], 'default_id': 'OpMenu', 'save_var': 'false'}]}\n",
      "\n",
      "_________________________________________________________________________________________________________________________\n",
      "Mensaje enviado a la API de  Facebook\n",
      "request_endpoint->  https://graph.facebook.com/v2.6/me/messages\n",
      "ruta-> {'access_token': 'EAAHNkscg2TcBAPPdpr7JvPbpBMERatNnwpeJBzQb1LOR4tNWHVueapZA8b1Mk4d72WKNEdMpmz7GOg59pHoyIy7t4uJWChDDdZB9325zg9lxZAfvtC4VbMWsUwYb66UYeridurDFi4jainsZCVnlJiR42IM0VtctEXpayb5BXAZDZD'}\n",
      "payload->  {'message': {'attachment': {'type': 'template', 'payload': {'template_type': 'button', 'text': 'Qué deseas hacer', 'buttons': [{'title': 'Consultar API', 'type': 'postback', 'payload': 'Consultar API'}, {'title': 'Poner queja', 'type': 'postback', 'payload': 'Poner queja'}, {'title': ' Ingresar sugerencia', 'type': 'postback', 'payload': ' Ingresar sugerencia'}]}}}, 'recipient': {'id': '3135661523115555'}, 'notification_type': 'REGULAR'}\n"
     ]
    },
    {
     "name": "stderr",
     "output_type": "stream",
     "text": [
      "127.0.0.1 - - [06/Jun/2019 08:03:21] \"POST / HTTP/1.1\" 200 -\n",
      "127.0.0.1 - - [06/Jun/2019 08:03:21] \"POST / HTTP/1.1\" 200 -\n"
     ]
    },
    {
     "name": "stdout",
     "output_type": "stream",
     "text": [
      "\n",
      "_________________________________________________________________________________________________________________________\n",
      "Mesaje de la API de Facebook->  {'object': 'page', 'entry': [{'id': '2153123008120093', 'time': 1559826200991, 'messaging': [{'sender': {'id': '3135661523115555'}, 'recipient': {'id': '2153123008120093'}, 'timestamp': 1559826200979, 'delivery': {'mids': ['wU-5Sl0RBQMuB4giFtkOQOHrAXMQsku05EX78-2sNmWvJkPagm8olpZMiLBJaZmNke9Epz0sWNuLgISe87Z8cw'], 'watermark': 1559826200391, 'seq': 0}}]}]}\n",
      "\n",
      "_________________________________________________________________________________________________________________________\n",
      "Mesaje de la API de Facebook->  {'object': 'page', 'entry': [{'id': '2153123008120093', 'time': 1559826201002, 'messaging': [{'sender': {'id': '3135661523115555'}, 'recipient': {'id': '2153123008120093'}, 'timestamp': 1559826200989, 'delivery': {'mids': ['wU-5Sl0RBQMuB4giFtkOQOHrAXMQsku05EX78-2sNmWvJkPagm8olpZMiLBJaZmNke9Epz0sWNuLgISe87Z8cw'], 'watermark': 1559826200391, 'seq': 0}}]}]}\n"
     ]
    },
    {
     "name": "stderr",
     "output_type": "stream",
     "text": [
      "127.0.0.1 - - [06/Jun/2019 08:03:31] \"POST / HTTP/1.1\" 200 -\n"
     ]
    },
    {
     "name": "stdout",
     "output_type": "stream",
     "text": [
      "\n",
      "_________________________________________________________________________________________________________________________\n",
      "Mesaje de la API de Facebook->  {'object': 'page', 'entry': [{'id': '2153123008120093', 'time': 1559826210444, 'messaging': [{'sender': {'id': '3135661523115555'}, 'recipient': {'id': '2153123008120093'}, 'timestamp': 1559826209908, 'message': {'mid': 'Ku8K57rWa8dXAzzQYJCxK-HrAXMQsku05EX78-2sNmXrID6GFyVX8ppWOfoVpVAgnCSW6e_Il0DzbDfjnf4COw', 'seq': 0, 'text': 'quiero consultar estaciones'}}]}]}\n",
      "\n",
      "_________________________________________________________________________________________________________________________\n",
      "Mensaje enviado al Nucleo Logico->  {\"payload\": [{\"robot\": \"none\", \"id_face\": \"2153123008120093\", \"recipient_id\": \"3135661523115555\", \"access_token\": \"none\", \"content\": \"quiero consultar estaciones\", \"type_resp\": \"message\", \"state\": \"none\", \"blocktype\": \"none\", \"opciones\": \"none\", \"entitites\": \" \", \"entities\": {}}]}\n",
      "\n",
      "_________________________________________________________________________________________________________________________\n",
      "Respuesta del Nucleo Logico->  {'Respuesta': [{'content': [{'title': 'Estacion con id 361', 'image_url': 'https://www.ecobici.cdmx.gob.mx/sites/default/files/u14/en_bicicletas-2.png', 'subtitle': 'Direccion = 361 - Porfirio Díaz-Capulín', 'buttons': [{'titleButton': 'Consultar', 'typeButton': 'postback', 'payloadButton': '361'}, {'titleButton': 'Más estaciones', 'typeButton': 'postback', 'payloadButton': 'ConsultarEstaciones'}]}, {'title': 'Estacion con id 368', 'image_url': 'https://www.ecobici.cdmx.gob.mx/sites/default/files/u14/en_bicicletas-2.png', 'subtitle': 'Direccion = 368 - Porfirio Díaz-Cincinatti', 'buttons': [{'titleButton': 'Consultar', 'typeButton': 'postback', 'payloadButton': '368'}, {'titleButton': 'Más estaciones', 'typeButton': 'postback', 'payloadButton': 'ConsultarEstaciones'}]}, {'title': 'Estacion con id 369', 'image_url': 'https://www.ecobici.cdmx.gob.mx/sites/default/files/u14/en_bicicletas-2.png', 'subtitle': 'Direccion = 369 - Porfirio Díaz-Av. Insurgentes', 'buttons': [{'titleButton': 'Consultar', 'typeButton': 'postback', 'payloadButton': '369'}, {'titleButton': 'Más estaciones', 'typeButton': 'postback', 'payloadButton': 'ConsultarEstaciones'}]}, {'title': 'Estacion con id 372', 'image_url': 'https://www.ecobici.cdmx.gob.mx/sites/default/files/u14/en_bicicletas-2.png', 'subtitle': 'Direccion = 372 - Dr. Roberto Gayol-Tlacoquemecatl', 'buttons': [{'titleButton': 'Consultar', 'typeButton': 'postback', 'payloadButton': '372'}, {'titleButton': 'Más estaciones', 'typeButton': 'postback', 'payloadButton': 'ConsultarEstaciones'}]}, {'title': 'Estacion con id 379', 'image_url': 'https://www.ecobici.cdmx.gob.mx/sites/default/files/u14/en_bicicletas-2.png', 'subtitle': 'Direccion = 379 - Dr. Roberto Gayol-Miguel Laurent', 'buttons': [{'titleButton': 'Consultar', 'typeButton': 'postback', 'payloadButton': '379'}, {'titleButton': 'Más estaciones', 'typeButton': 'postback', 'payloadButton': 'ConsultarEstaciones'}]}, {'title': 'Estacion con id 402', 'image_url': 'https://www.ecobici.cdmx.gob.mx/sites/default/files/u14/en_bicicletas-2.png', 'subtitle': 'Direccion = 402 - Uxmal-Municipio Libre', 'buttons': [{'titleButton': 'Consultar', 'typeButton': 'postback', 'payloadButton': '402'}, {'titleButton': 'Más estaciones', 'typeButton': 'postback', 'payloadButton': 'ConsultarEstaciones'}]}, {'title': 'Estacion con id 3', 'image_url': 'https://www.ecobici.cdmx.gob.mx/sites/default/files/u14/en_bicicletas-2.png', 'subtitle': 'Direccion = 003 - Reforma - Insurgentes', 'buttons': [{'titleButton': 'Consultar', 'typeButton': 'postback', 'payloadButton': '3'}, {'titleButton': 'Más estaciones', 'typeButton': 'postback', 'payloadButton': 'ConsultarEstaciones'}]}, {'title': 'Estacion con id 12', 'image_url': 'https://www.ecobici.cdmx.gob.mx/sites/default/files/u14/en_bicicletas-2.png', 'subtitle': 'Direccion = 012 - Río Lerma - Villalongin', 'buttons': [{'titleButton': 'Consultar', 'typeButton': 'postback', 'payloadButton': '12'}, {'titleButton': 'Más estaciones', 'typeButton': 'postback', 'payloadButton': 'ConsultarEstaciones'}]}, {'title': 'Estacion con id 13', 'image_url': 'https://www.ecobici.cdmx.gob.mx/sites/default/files/u14/en_bicicletas-2.png', 'subtitle': 'Direccion = 013 - Reforma - Rio Mississippi', 'buttons': [{'titleButton': 'Consultar', 'typeButton': 'postback', 'payloadButton': '13'}, {'titleButton': 'Más estaciones', 'typeButton': 'postback', 'payloadButton': 'ConsultarEstaciones'}]}, {'title': 'Estacion con id 16', 'image_url': 'https://www.ecobici.cdmx.gob.mx/sites/default/files/u14/en_bicicletas-2.png', 'subtitle': 'Direccion = 016 - Reforma - Rio Tiber', 'buttons': [{'titleButton': 'Consultar', 'typeButton': 'postback', 'payloadButton': '16'}, {'titleButton': 'Más estaciones', 'typeButton': 'postback', 'payloadButton': 'ConsultarEstaciones'}]}], 'next_id': 'ConsultarEstaciones', 'blockType': 'slideDinamico', 'contentType': ' ', 'typingTime': '1', 'payload': [{'content': '', 'state': 'ConsultarEstaciones', 'recipient_id': '3135661523115555', 'entities': {'actual_pos': 20, 'VarTipoDato': 'id', 'VarSEstacion': '443'}, 'access_token': 'EAAHNkscg2TcBAPPdpr7JvPbpBMERatNnwpeJBzQb1LOR4tNWHVueapZA8b1Mk4d72WKNEdMpmz7GOg59pHoyIy7t4uJWChDDdZB9325zg9lxZAfvtC4VbMWsUwYb66UYeridurDFi4jainsZCVnlJiR42IM0VtctEXpayb5BXAZDZD'}]}]}\n",
      "\n",
      "_________________________________________________________________________________________________________________________\n",
      "Mensaje enviado a la API de  Facebook\n",
      "request_endpoint->  https://graph.facebook.com/v2.6/me/messages\n",
      "ruta-> {'access_token': 'EAAHNkscg2TcBAPPdpr7JvPbpBMERatNnwpeJBzQb1LOR4tNWHVueapZA8b1Mk4d72WKNEdMpmz7GOg59pHoyIy7t4uJWChDDdZB9325zg9lxZAfvtC4VbMWsUwYb66UYeridurDFi4jainsZCVnlJiR42IM0VtctEXpayb5BXAZDZD'}\n",
      "payload->  {'recipient': {'id': '3135661523115555'}, 'message': {'attachment': {'type': 'template', 'payload': {'template_type': 'generic', 'elements': [{'title': 'Estacion con id 361', 'image_url': 'https://www.ecobici.cdmx.gob.mx/sites/default/files/u14/en_bicicletas-2.png', 'subtitle': 'Direccion = 361 - Porfirio Díaz-Capulín', 'buttons': [{'title': 'Consultar', 'type': 'postback', 'payload': '361'}, {'title': 'Más estaciones', 'type': 'postback', 'payload': 'ConsultarEstaciones'}]}, {'title': 'Estacion con id 368', 'image_url': 'https://www.ecobici.cdmx.gob.mx/sites/default/files/u14/en_bicicletas-2.png', 'subtitle': 'Direccion = 368 - Porfirio Díaz-Cincinatti', 'buttons': [{'title': 'Consultar', 'type': 'postback', 'payload': '368'}]}, {'title': 'Estacion con id 369', 'image_url': 'https://www.ecobici.cdmx.gob.mx/sites/default/files/u14/en_bicicletas-2.png', 'subtitle': 'Direccion = 369 - Porfirio Díaz-Av. Insurgentes', 'buttons': [{'title': 'Consultar', 'type': 'postback', 'payload': '369'}]}, {'title': 'Estacion con id 372', 'image_url': 'https://www.ecobici.cdmx.gob.mx/sites/default/files/u14/en_bicicletas-2.png', 'subtitle': 'Direccion = 372 - Dr. Roberto Gayol-Tlacoquemecatl', 'buttons': [{'title': 'Consultar', 'type': 'postback', 'payload': '372'}]}, {'title': 'Estacion con id 379', 'image_url': 'https://www.ecobici.cdmx.gob.mx/sites/default/files/u14/en_bicicletas-2.png', 'subtitle': 'Direccion = 379 - Dr. Roberto Gayol-Miguel Laurent', 'buttons': [{'title': 'Consultar', 'type': 'postback', 'payload': '379'}]}, {'title': 'Estacion con id 402', 'image_url': 'https://www.ecobici.cdmx.gob.mx/sites/default/files/u14/en_bicicletas-2.png', 'subtitle': 'Direccion = 402 - Uxmal-Municipio Libre', 'buttons': [{'title': 'Consultar', 'type': 'postback', 'payload': '402'}]}, {'title': 'Estacion con id 3', 'image_url': 'https://www.ecobici.cdmx.gob.mx/sites/default/files/u14/en_bicicletas-2.png', 'subtitle': 'Direccion = 003 - Reforma - Insurgentes', 'buttons': [{'title': 'Consultar', 'type': 'postback', 'payload': '3'}]}, {'title': 'Estacion con id 12', 'image_url': 'https://www.ecobici.cdmx.gob.mx/sites/default/files/u14/en_bicicletas-2.png', 'subtitle': 'Direccion = 012 - Río Lerma - Villalongin', 'buttons': [{'title': 'Consultar', 'type': 'postback', 'payload': '12'}]}, {'title': 'Estacion con id 13', 'image_url': 'https://www.ecobici.cdmx.gob.mx/sites/default/files/u14/en_bicicletas-2.png', 'subtitle': 'Direccion = 013 - Reforma - Rio Mississippi', 'buttons': [{'title': 'Consultar', 'type': 'postback', 'payload': '13'}]}, {'title': 'Estacion con id 16', 'image_url': 'https://www.ecobici.cdmx.gob.mx/sites/default/files/u14/en_bicicletas-2.png', 'subtitle': 'Direccion = 016 - Reforma - Rio Tiber', 'buttons': [{'title': 'Consultar', 'type': 'postback', 'payload': '16'}]}]}}}, 'notification_type': 'REGULAR'}\n"
     ]
    },
    {
     "name": "stderr",
     "output_type": "stream",
     "text": [
      "127.0.0.1 - - [06/Jun/2019 08:03:36] \"POST / HTTP/1.1\" 200 -\n",
      "127.0.0.1 - - [06/Jun/2019 08:03:36] \"POST / HTTP/1.1\" 200 -\n"
     ]
    },
    {
     "name": "stdout",
     "output_type": "stream",
     "text": [
      "\n",
      "_________________________________________________________________________________________________________________________\n",
      "_________________________________________________________________________________________________________________________\n",
      "Mesaje de la API de Facebook->  {'object': 'page', 'entry': [{'id': '2153123008120093', 'time': 1559826215800, 'messaging': [{'sender': {'id': '3135661523115555'}, 'recipient': {'id': '2153123008120093'}, 'timestamp': 1559826215790, 'delivery': {'mids': ['W5b039haW9onrHLiWi9aGuHrAXMQsku05EX78-2sNmXpDYNeyPtzai4mChO1WYF97NX7mtBF_rx7ASeUGpJNqw'], 'watermark': 1559826215375, 'seq': 0}}]}]}\n",
      "\n",
      "Mesaje de la API de Facebook->  {'object': 'page', 'entry': [{'id': '2153123008120093', 'time': 1559826215778, 'messaging': [{'sender': {'id': '3135661523115555'}, 'recipient': {'id': '2153123008120093'}, 'timestamp': 1559826215766, 'delivery': {'mids': ['W5b039haW9onrHLiWi9aGuHrAXMQsku05EX78-2sNmXpDYNeyPtzai4mChO1WYF97NX7mtBF_rx7ASeUGpJNqw'], 'watermark': 1559826215375, 'seq': 0}}]}]}\n"
     ]
    },
    {
     "name": "stderr",
     "output_type": "stream",
     "text": [
      "127.0.0.1 - - [06/Jun/2019 08:03:41] \"POST / HTTP/1.1\" 200 -\n"
     ]
    },
    {
     "name": "stdout",
     "output_type": "stream",
     "text": [
      "\n",
      "_________________________________________________________________________________________________________________________\n",
      "Mesaje de la API de Facebook->  {'object': 'page', 'entry': [{'id': '2153123008120093', 'time': 1559826221072, 'messaging': [{'sender': {'id': '3135661523115555'}, 'recipient': {'id': '2153123008120093'}, 'timestamp': 1559826220568, 'postback': {'title': 'Consultar', 'payload': '368'}}]}]}\n",
      "\n",
      "_________________________________________________________________________________________________________________________\n",
      "Mensaje enviado al Nucleo Logico->  {\"payload\": [{\"robot\": \"none\", \"id_face\": \"2153123008120093\", \"recipient_id\": \"3135661523115555\", \"access_token\": \"none\", \"content\": \"368\", \"type_resp\": \"postback\", \"state\": \"none\", \"blocktype\": \"none\", \"opciones\": \"none\", \"entitites\": \" \", \"entities\": {}}]}\n",
      "\n",
      "_________________________________________________________________________________________________________________________\n",
      "Respuesta del Nucleo Logico->  {'Respuesta': [{'content': 'La estacion con id 368 tiene un estado  y cuenta con un total de  bicicletas disponibles', 'next_id': 'Salida', 'blockType': 'informativoDinamico', 'contentType': 'text', 'typingTime': '1', 'payload': [{'content': '', 'state': 'DatosEstacion', 'recipient_id': '3135661523115555', 'entities': {'actual_pos': 20, 'VarTipoDato': 'id', 'VarSEstacion': '368'}, 'access_token': 'EAAHNkscg2TcBAPPdpr7JvPbpBMERatNnwpeJBzQb1LOR4tNWHVueapZA8b1Mk4d72WKNEdMpmz7GOg59pHoyIy7t4uJWChDDdZB9325zg9lxZAfvtC4VbMWsUwYb66UYeridurDFi4jainsZCVnlJiR42IM0VtctEXpayb5BXAZDZD'}]}]}\n",
      "\n",
      "_________________________________________________________________________________________________________________________\n",
      "Mensaje enviado a la API de  Facebook\n",
      "request_endpoint->  https://graph.facebook.com/v2.6/me/messages\n",
      "ruta-> {'access_token': 'EAAHNkscg2TcBAPPdpr7JvPbpBMERatNnwpeJBzQb1LOR4tNWHVueapZA8b1Mk4d72WKNEdMpmz7GOg59pHoyIy7t4uJWChDDdZB9325zg9lxZAfvtC4VbMWsUwYb66UYeridurDFi4jainsZCVnlJiR42IM0VtctEXpayb5BXAZDZD'}\n",
      "payload->  {'message': {'text': 'La estacion con id 368 tiene un estado  y cuenta con un total de  bicicletas disponibles'}, 'recipient': {'id': '3135661523115555'}, 'notification_type': 'REGULAR'}\n"
     ]
    },
    {
     "name": "stderr",
     "output_type": "stream",
     "text": [
      "127.0.0.1 - - [06/Jun/2019 08:03:44] \"POST / HTTP/1.1\" 200 -\n",
      "127.0.0.1 - - [06/Jun/2019 08:03:45] \"POST / HTTP/1.1\" 200 -\n"
     ]
    },
    {
     "name": "stdout",
     "output_type": "stream",
     "text": [
      "\n",
      "_________________________________________________________________________________________________________________________\n",
      "Mesaje de la API de Facebook->  {'object': 'page', 'entry': [{'id': '2153123008120093', 'time': 1559826224236, 'messaging': [{'sender': {'id': '3135661523115555'}, 'recipient': {'id': '2153123008120093'}, 'timestamp': 1559826224225, 'delivery': {'mids': ['yXKfbPic4V7AjJqAOvDos-HrAXMQsku05EX78-2sNmUm19A8AWqucgXwtNdQ-MWbwA3M1yfzP2_YgWYF4NFCpQ'], 'watermark': 1559826223878, 'seq': 0}}]}]}\n",
      "\n",
      "_________________________________________________________________________________________________________________________\n",
      "Mesaje de la API de Facebook->  {'object': 'page', 'entry': [{'id': '2153123008120093', 'time': 1559826224287, 'messaging': [{'sender': {'id': '3135661523115555'}, 'recipient': {'id': '2153123008120093'}, 'timestamp': 1559826224274, 'delivery': {'mids': ['yXKfbPic4V7AjJqAOvDos-HrAXMQsku05EX78-2sNmUm19A8AWqucgXwtNdQ-MWbwA3M1yfzP2_YgWYF4NFCpQ'], 'watermark': 1559826223878, 'seq': 0}}]}]}\n"
     ]
    },
    {
     "name": "stderr",
     "output_type": "stream",
     "text": [
      "127.0.0.1 - - [06/Jun/2019 08:03:56] \"POST / HTTP/1.1\" 200 -\n"
     ]
    },
    {
     "name": "stdout",
     "output_type": "stream",
     "text": [
      "\n",
      "_________________________________________________________________________________________________________________________\n",
      "Mesaje de la API de Facebook->  {'object': 'page', 'entry': [{'id': '2153123008120093', 'time': 1559826235608, 'messaging': [{'sender': {'id': '3135661523115555'}, 'recipient': {'id': '2153123008120093'}, 'timestamp': 1559826235040, 'message': {'mid': 'mmFTjPETQjEZRspSiRfT_eHrAXMQsku05EX78-2sNmVlKclMGY0vYSj5pnr5noQHDOVy7p3FG_Ao4uAC9pwaxg', 'seq': 0, 'text': 'gracias'}}]}]}\n",
      "\n",
      "_________________________________________________________________________________________________________________________\n",
      "Mensaje enviado al Nucleo Logico->  {\"payload\": [{\"robot\": \"none\", \"id_face\": \"2153123008120093\", \"recipient_id\": \"3135661523115555\", \"access_token\": \"none\", \"content\": \"gracias\", \"type_resp\": \"message\", \"state\": \"none\", \"blocktype\": \"none\", \"opciones\": \"none\", \"entitites\": \" \", \"entities\": {}}]}\n",
      "\n",
      "_________________________________________________________________________________________________________________________\n",
      "Respuesta del Nucleo Logico->  {'Respuesta': [{'content': 'Gracias por su visita, vuelva pronto', 'next_id': 'Saludo', 'blockType': 'informativo', 'contentType': 'text', 'typingTime': '1', 'payload': [{'content': '', 'state': 'Salida', 'recipient_id': '3135661523115555', 'entities': {'actual_pos': 20, 'VarTipoDato': 'id', 'VarSEstacion': '368'}, 'access_token': 'EAAHNkscg2TcBAPPdpr7JvPbpBMERatNnwpeJBzQb1LOR4tNWHVueapZA8b1Mk4d72WKNEdMpmz7GOg59pHoyIy7t4uJWChDDdZB9325zg9lxZAfvtC4VbMWsUwYb66UYeridurDFi4jainsZCVnlJiR42IM0VtctEXpayb5BXAZDZD'}]}]}\n",
      "\n",
      "_________________________________________________________________________________________________________________________\n",
      "Mensaje enviado a la API de  Facebook\n",
      "request_endpoint->  https://graph.facebook.com/v2.6/me/messages\n",
      "ruta-> {'access_token': 'EAAHNkscg2TcBAPPdpr7JvPbpBMERatNnwpeJBzQb1LOR4tNWHVueapZA8b1Mk4d72WKNEdMpmz7GOg59pHoyIy7t4uJWChDDdZB9325zg9lxZAfvtC4VbMWsUwYb66UYeridurDFi4jainsZCVnlJiR42IM0VtctEXpayb5BXAZDZD'}\n",
      "payload->  {'message': {'text': 'Gracias por su visita, vuelva pronto'}, 'recipient': {'id': '3135661523115555'}, 'notification_type': 'REGULAR'}\n"
     ]
    },
    {
     "name": "stderr",
     "output_type": "stream",
     "text": [
      "127.0.0.1 - - [06/Jun/2019 08:03:57] \"POST / HTTP/1.1\" 200 -\n",
      "127.0.0.1 - - [06/Jun/2019 08:03:57] \"POST / HTTP/1.1\" 200 -\n"
     ]
    },
    {
     "name": "stdout",
     "output_type": "stream",
     "text": [
      "\n",
      "_________________________________________________________________________________________________________________________\n",
      "Mesaje de la API de Facebook->  {'object': 'page', 'entry': [{'id': '2153123008120093', 'time': 1559826236673, 'messaging': [{'sender': {'id': '3135661523115555'}, 'recipient': {'id': '2153123008120093'}, 'timestamp': 1559826236662, 'delivery': {'mids': ['c2BAJEUu1TJXbEwwzM7bHuHrAXMQsku05EX78-2sNmWku8UxJsz6Wl73VR-memjZbdeG7HjZ6to7uTpDAmQ9vQ'], 'watermark': 1559826236279, 'seq': 0}}]}]}\n",
      "\n",
      "_________________________________________________________________________________________________________________________\n",
      "Mesaje de la API de Facebook->  {'object': 'page', 'entry': [{'id': '2153123008120093', 'time': 1559826236687, 'messaging': [{'sender': {'id': '3135661523115555'}, 'recipient': {'id': '2153123008120093'}, 'timestamp': 1559826236678, 'delivery': {'mids': ['c2BAJEUu1TJXbEwwzM7bHuHrAXMQsku05EX78-2sNmWku8UxJsz6Wl73VR-memjZbdeG7HjZ6to7uTpDAmQ9vQ'], 'watermark': 1559826236279, 'seq': 0}}]}]}\n"
     ]
    },
    {
     "name": "stderr",
     "output_type": "stream",
     "text": [
      "127.0.0.1 - - [06/Jun/2019 08:04:27] \"POST / HTTP/1.1\" 200 -\n"
     ]
    },
    {
     "name": "stdout",
     "output_type": "stream",
     "text": [
      "\n",
      "_________________________________________________________________________________________________________________________\n",
      "Mesaje de la API de Facebook->  {'object': 'page', 'entry': [{'id': '2153123008120093', 'time': 1559826266287, 'messaging': [{'sender': {'id': '3135661523115555'}, 'recipient': {'id': '2153123008120093'}, 'timestamp': 1559826265766, 'message': {'mid': 'iZUj5ijmfzARwohfj_hEnuHrAXMQsku05EX78-2sNmWYRKct5ruxkHxWDe2hCtKktvRoq78HylXYd1U601x-Iw', 'seq': 0, 'text': 'hola otra vez'}}]}]}\n",
      "\n",
      "_________________________________________________________________________________________________________________________\n",
      "Mensaje enviado al Nucleo Logico->  {\"payload\": [{\"robot\": \"none\", \"id_face\": \"2153123008120093\", \"recipient_id\": \"3135661523115555\", \"access_token\": \"none\", \"content\": \"hola otra vez\", \"type_resp\": \"message\", \"state\": \"none\", \"blocktype\": \"none\", \"opciones\": \"none\", \"entitites\": \" \", \"entities\": {}}]}\n",
      "\n",
      "_________________________________________________________________________________________________________________________\n",
      "Respuesta del Nucleo Logico->  {'Respuesta': [{'content': 'Hola, espero que estes teniendo un bonito dia', 'next_id': 'InfoRobot', 'blockType': 'informativo', 'contentType': 'text', 'typingTime': '1', 'payload': [{'content': '', 'state': 'Saludo', 'recipient_id': '3135661523115555', 'entities': {'actual_pos': 20, 'VarTipoDato': 'id', 'VarSEstacion': '368'}, 'access_token': 'EAAHNkscg2TcBAPPdpr7JvPbpBMERatNnwpeJBzQb1LOR4tNWHVueapZA8b1Mk4d72WKNEdMpmz7GOg59pHoyIy7t4uJWChDDdZB9325zg9lxZAfvtC4VbMWsUwYb66UYeridurDFi4jainsZCVnlJiR42IM0VtctEXpayb5BXAZDZD'}]}]}\n",
      "\n",
      "_________________________________________________________________________________________________________________________\n",
      "Mensaje enviado a la API de  Facebook\n",
      "request_endpoint->  https://graph.facebook.com/v2.6/me/messages\n",
      "ruta-> {'access_token': 'EAAHNkscg2TcBAPPdpr7JvPbpBMERatNnwpeJBzQb1LOR4tNWHVueapZA8b1Mk4d72WKNEdMpmz7GOg59pHoyIy7t4uJWChDDdZB9325zg9lxZAfvtC4VbMWsUwYb66UYeridurDFi4jainsZCVnlJiR42IM0VtctEXpayb5BXAZDZD'}\n",
      "payload->  {'message': {'text': 'Hola, espero que estes teniendo un bonito dia'}, 'recipient': {'id': '3135661523115555'}, 'notification_type': 'REGULAR'}\n"
     ]
    },
    {
     "name": "stderr",
     "output_type": "stream",
     "text": [
      "127.0.0.1 - - [06/Jun/2019 08:04:28] \"POST / HTTP/1.1\" 200 -\n",
      "127.0.0.1 - - [06/Jun/2019 08:04:28] \"POST / HTTP/1.1\" 200 -\n"
     ]
    },
    {
     "name": "stdout",
     "output_type": "stream",
     "text": [
      "\n",
      "_________________________________________________________________________________________________________________________\n",
      "Mesaje de la API de Facebook->  {'object': 'page', 'entry': [{'id': '2153123008120093', 'time': 1559826267599, 'messaging': [{'sender': {'id': '3135661523115555'}, 'recipient': {'id': '2153123008120093'}, 'timestamp': 1559826267589, 'delivery': {'mids': ['1bFAcqV5wCDPYWrVwNeh3uHrAXMQsku05EX78-2sNmUfjWNWlTKbEFdOvsn5GJGaonhWbV7MgeTXqMBV0oRULg'], 'watermark': 1559826267158, 'seq': 0}}]}]}\n",
      "\n",
      "_________________________________________________________________________________________________________________________\n",
      "Mesaje de la API de Facebook->  {'object': 'page', 'entry': [{'id': '2153123008120093', 'time': 1559826267623, 'messaging': [{'sender': {'id': '3135661523115555'}, 'recipient': {'id': '2153123008120093'}, 'timestamp': 1559826267612, 'delivery': {'mids': ['1bFAcqV5wCDPYWrVwNeh3uHrAXMQsku05EX78-2sNmUfjWNWlTKbEFdOvsn5GJGaonhWbV7MgeTXqMBV0oRULg'], 'watermark': 1559826267158, 'seq': 0}}]}]}\n"
     ]
    },
    {
     "name": "stderr",
     "output_type": "stream",
     "text": [
      "127.0.0.1 - - [06/Jun/2019 09:20:29] \"POST / HTTP/1.1\" 200 -\n"
     ]
    },
    {
     "name": "stdout",
     "output_type": "stream",
     "text": [
      "\n",
      "_________________________________________________________________________________________________________________________\n",
      "Mesaje de la API de Facebook->  {'object': 'page', 'entry': [{'id': '2153123008120093', 'time': 1559830828462, 'messaging': [{'sender': {'id': '3135661523115555'}, 'recipient': {'id': '2153123008120093'}, 'timestamp': 1559830827913, 'message': {'mid': '5uozcHg10Ih4IXEhag3JZuHrAXMQsku05EX78-2sNmU-Ja8ZUP0rS3ZkYGiNuFAVjdWKANaoJ-pG7NbYZaJZvQ', 'seq': 0, 'text': 'Hola'}}]}]}\n",
      "\n",
      "_________________________________________________________________________________________________________________________\n",
      "Mensaje enviado al Nucleo Logico->  {\"payload\": [{\"robot\": \"none\", \"id_face\": \"2153123008120093\", \"recipient_id\": \"3135661523115555\", \"access_token\": \"none\", \"content\": \"Hola\", \"type_resp\": \"message\", \"state\": \"none\", \"blocktype\": \"none\", \"opciones\": \"none\", \"entitites\": \" \", \"entities\": {}}]}\n",
      "\n",
      "_________________________________________________________________________________________________________________________\n",
      "Respuesta del Nucleo Logico->  {'Respuesta': [{'content': 'Soy el chatbot que consulta la info de ECOBICI', 'next_id': 'OpMenu', 'blockType': 'informativo', 'contentType': 'text', 'typingTime': '1', 'payload': [{'content': '', 'state': 'InfoRobot', 'recipient_id': '3135661523115555', 'entities': {'actual_pos': 20, 'VarTipoDato': 'id', 'VarSEstacion': '368'}, 'access_token': 'EAAHNkscg2TcBAPPdpr7JvPbpBMERatNnwpeJBzQb1LOR4tNWHVueapZA8b1Mk4d72WKNEdMpmz7GOg59pHoyIy7t4uJWChDDdZB9325zg9lxZAfvtC4VbMWsUwYb66UYeridurDFi4jainsZCVnlJiR42IM0VtctEXpayb5BXAZDZD'}]}]}\n",
      "\n",
      "_________________________________________________________________________________________________________________________\n",
      "Mensaje enviado a la API de  Facebook\n",
      "request_endpoint->  https://graph.facebook.com/v2.6/me/messages\n",
      "ruta-> {'access_token': 'EAAHNkscg2TcBAPPdpr7JvPbpBMERatNnwpeJBzQb1LOR4tNWHVueapZA8b1Mk4d72WKNEdMpmz7GOg59pHoyIy7t4uJWChDDdZB9325zg9lxZAfvtC4VbMWsUwYb66UYeridurDFi4jainsZCVnlJiR42IM0VtctEXpayb5BXAZDZD'}\n",
      "payload->  {'message': {'text': 'Soy el chatbot que consulta la info de ECOBICI'}, 'recipient': {'id': '3135661523115555'}, 'notification_type': 'REGULAR'}\n"
     ]
    },
    {
     "name": "stderr",
     "output_type": "stream",
     "text": [
      "127.0.0.1 - - [06/Jun/2019 09:20:30] \"POST / HTTP/1.1\" 200 -\n"
     ]
    },
    {
     "name": "stdout",
     "output_type": "stream",
     "text": [
      "\n",
      "_________________________________________________________________________________________________________________________\n",
      "Mesaje de la API de Facebook->  {'object': 'page', 'entry': [{'id': '2153123008120093', 'time': 1559830830053, 'messaging': [{'sender': {'id': '3135661523115555'}, 'recipient': {'id': '2153123008120093'}, 'timestamp': 1559830830040, 'delivery': {'mids': ['OOCXsnLpXkd7X7W22SNRLeHrAXMQsku05EX78-2sNmX0AghVUcEHHLGJCQv-BMA3VBbb0ZEkII4Xl9W1cAj8RA'], 'watermark': 1559830829378, 'seq': 0}}]}]}\n",
      "\n",
      "_________________________________________________________________________________________________________________________"
     ]
    },
    {
     "name": "stderr",
     "output_type": "stream",
     "text": [
      "127.0.0.1 - - [06/Jun/2019 09:20:31] \"POST / HTTP/1.1\" 200 -\n"
     ]
    },
    {
     "name": "stdout",
     "output_type": "stream",
     "text": [
      "\n",
      "Mesaje de la API de Facebook->  {'object': 'page', 'entry': [{'id': '2153123008120093', 'time': 1559830830253, 'messaging': [{'sender': {'id': '3135661523115555'}, 'recipient': {'id': '2153123008120093'}, 'timestamp': 1559830830241, 'delivery': {'mids': ['OOCXsnLpXkd7X7W22SNRLeHrAXMQsku05EX78-2sNmX0AghVUcEHHLGJCQv-BMA3VBbb0ZEkII4Xl9W1cAj8RA'], 'watermark': 1559830829378, 'seq': 0}}]}]}\n"
     ]
    },
    {
     "name": "stderr",
     "output_type": "stream",
     "text": [
      "127.0.0.1 - - [06/Jun/2019 09:22:59] \"POST / HTTP/1.1\" 200 -\n"
     ]
    },
    {
     "name": "stdout",
     "output_type": "stream",
     "text": [
      "\n",
      "_________________________________________________________________________________________________________________________\n",
      "Mesaje de la API de Facebook->  {'object': 'page', 'entry': [{'id': '2153123008120093', 'time': 1559830979105, 'messaging': [{'sender': {'id': '3135661523115555'}, 'recipient': {'id': '2153123008120093'}, 'timestamp': 1559830978656, 'message': {'mid': '-cBLPmDBU3mXB3iqopyEU-HrAXMQsku05EX78-2sNmXy8AuK_B804od0Jz2QPMddC1aEPAVgMJndaE-wKHsA0g', 'seq': 0, 'text': 'excelente'}}]}]}\n",
      "\n",
      "_________________________________________________________________________________________________________________________\n",
      "Mensaje enviado al Nucleo Logico->  {\"payload\": [{\"robot\": \"none\", \"id_face\": \"2153123008120093\", \"recipient_id\": \"3135661523115555\", \"access_token\": \"none\", \"content\": \"excelente\", \"type_resp\": \"message\", \"state\": \"none\", \"blocktype\": \"none\", \"opciones\": \"none\", \"entitites\": \" \", \"entities\": {}}]}\n",
      "\n",
      "_________________________________________________________________________________________________________________________\n",
      "Respuesta del Nucleo Logico->  {'Respuesta': [{'content': 'Qué deseas hacer', 'next_id': 'OpMenuAPI,Queja,Sugerencias', 'blockType': 'quickReply', 'contentType': ' ', 'typingTime': '1', 'payload': [{'content': '', 'state': 'OpMenu', 'recipient_id': '3135661523115555', 'entities': {'actual_pos': 20, 'VarTipoDato': 'id', 'VarSEstacion': '368'}, 'access_token': 'EAAHNkscg2TcBAPPdpr7JvPbpBMERatNnwpeJBzQb1LOR4tNWHVueapZA8b1Mk4d72WKNEdMpmz7GOg59pHoyIy7t4uJWChDDdZB9325zg9lxZAfvtC4VbMWsUwYb66UYeridurDFi4jainsZCVnlJiR42IM0VtctEXpayb5BXAZDZD'}], 'options': ['Consultar API', 'Poner queja', ' Ingresar sugerencia'], 'default_id': 'OpMenu', 'save_var': 'false'}]}\n",
      "\n",
      "_________________________________________________________________________________________________________________________\n",
      "Mensaje enviado a la API de  Facebook\n",
      "request_endpoint->  https://graph.facebook.com/v2.6/me/messages\n",
      "ruta-> {'access_token': 'EAAHNkscg2TcBAPPdpr7JvPbpBMERatNnwpeJBzQb1LOR4tNWHVueapZA8b1Mk4d72WKNEdMpmz7GOg59pHoyIy7t4uJWChDDdZB9325zg9lxZAfvtC4VbMWsUwYb66UYeridurDFi4jainsZCVnlJiR42IM0VtctEXpayb5BXAZDZD'}\n",
      "payload->  {'message': {'attachment': {'type': 'template', 'payload': {'template_type': 'button', 'text': 'Qué deseas hacer', 'buttons': [{'title': 'Consultar API', 'type': 'postback', 'payload': 'Consultar API'}, {'title': 'Poner queja', 'type': 'postback', 'payload': 'Poner queja'}, {'title': ' Ingresar sugerencia', 'type': 'postback', 'payload': ' Ingresar sugerencia'}]}}}, 'recipient': {'id': '3135661523115555'}, 'notification_type': 'REGULAR'}\n"
     ]
    },
    {
     "name": "stderr",
     "output_type": "stream",
     "text": [
      "127.0.0.1 - - [06/Jun/2019 09:23:01] \"POST / HTTP/1.1\" 200 -\n",
      "127.0.0.1 - - [06/Jun/2019 09:23:01] \"POST / HTTP/1.1\" 200 -\n"
     ]
    },
    {
     "name": "stdout",
     "output_type": "stream",
     "text": [
      "\n",
      "_________________________________________________________________________________________________________________________\n",
      "Mesaje de la API de Facebook->  {'object': 'page', 'entry': [{'id': '2153123008120093', 'time': 1559830980904, 'messaging': [{'sender': {'id': '3135661523115555'}, 'recipient': {'id': '2153123008120093'}, 'timestamp': 1559830980885, 'delivery': {'mids': ['BtCgOdIm2DdgJg3JEfwhIeHrAXMQsku05EX78-2sNmW0z_JP098WWKrhoUZ76gTmamF7IyF3GZyWx81dBy78Hw'], 'watermark': 1559830980354, 'seq': 0}}]}]}\n",
      "\n",
      "_________________________________________________________________________________________________________________________\n",
      "Mesaje de la API de Facebook->  {'object': 'page', 'entry': [{'id': '2153123008120093', 'time': 1559830980996, 'messaging': [{'sender': {'id': '3135661523115555'}, 'recipient': {'id': '2153123008120093'}, 'timestamp': 1559830980983, 'delivery': {'mids': ['BtCgOdIm2DdgJg3JEfwhIeHrAXMQsku05EX78-2sNmW0z_JP098WWKrhoUZ76gTmamF7IyF3GZyWx81dBy78Hw'], 'watermark': 1559830980354, 'seq': 0}}]}]}\n"
     ]
    },
    {
     "name": "stderr",
     "output_type": "stream",
     "text": [
      "127.0.0.1 - - [06/Jun/2019 09:23:06] \"POST / HTTP/1.1\" 200 -\n"
     ]
    },
    {
     "name": "stdout",
     "output_type": "stream",
     "text": [
      "\n",
      "_________________________________________________________________________________________________________________________\n",
      "Mesaje de la API de Facebook->  {'object': 'page', 'entry': [{'id': '2153123008120093', 'time': 1559830985767, 'messaging': [{'sender': {'id': '3135661523115555'}, 'recipient': {'id': '2153123008120093'}, 'timestamp': 1559830983905, 'postback': {'title': 'Consultar API', 'payload': 'Consultar API'}}]}]}\n",
      "\n",
      "_________________________________________________________________________________________________________________________\n",
      "Mensaje enviado al Nucleo Logico->  {\"payload\": [{\"robot\": \"none\", \"id_face\": \"2153123008120093\", \"recipient_id\": \"3135661523115555\", \"access_token\": \"none\", \"content\": \"Consultar API\", \"type_resp\": \"postback\", \"state\": \"none\", \"blocktype\": \"none\", \"opciones\": \"none\", \"entitites\": \" \", \"entities\": {}}]}\n",
      "\n",
      "_________________________________________________________________________________________________________________________\n",
      "Respuesta del Nucleo Logico->  {'Respuesta': [{'content': 'Elige una opción', 'next_id': 'ObtenerDatosAPIInput,ConsultarEstaciones', 'blockType': 'quickReply', 'contentType': ' ', 'typingTime': '1', 'payload': [{'content': '', 'state': 'OpMenuAPI', 'recipient_id': '3135661523115555', 'entities': {'actual_pos': 20, 'VarTipoDato': 'id', 'VarSEstacion': '368'}, 'access_token': 'EAAHNkscg2TcBAPPdpr7JvPbpBMERatNnwpeJBzQb1LOR4tNWHVueapZA8b1Mk4d72WKNEdMpmz7GOg59pHoyIy7t4uJWChDDdZB9325zg9lxZAfvtC4VbMWsUwYb66UYeridurDFi4jainsZCVnlJiR42IM0VtctEXpayb5BXAZDZD'}], 'options': ['Consultar por id', 'Consultar Estaciones'], 'default_id': 'OpMenu', 'save_var': 'false'}]}\n",
      "\n",
      "_________________________________________________________________________________________________________________________\n",
      "Mensaje enviado a la API de  Facebook\n",
      "request_endpoint->  https://graph.facebook.com/v2.6/me/messages\n",
      "ruta-> {'access_token': 'EAAHNkscg2TcBAPPdpr7JvPbpBMERatNnwpeJBzQb1LOR4tNWHVueapZA8b1Mk4d72WKNEdMpmz7GOg59pHoyIy7t4uJWChDDdZB9325zg9lxZAfvtC4VbMWsUwYb66UYeridurDFi4jainsZCVnlJiR42IM0VtctEXpayb5BXAZDZD'}\n",
      "payload->  {'message': {'attachment': {'type': 'template', 'payload': {'template_type': 'button', 'text': 'Elige una opción', 'buttons': [{'title': 'Consultar por id', 'type': 'postback', 'payload': 'Consultar por id'}, {'title': 'Consultar Estaciones', 'type': 'postback', 'payload': 'Consultar Estaciones'}]}}}, 'recipient': {'id': '3135661523115555'}, 'notification_type': 'REGULAR'}\n"
     ]
    },
    {
     "name": "stderr",
     "output_type": "stream",
     "text": [
      "127.0.0.1 - - [06/Jun/2019 09:23:07] \"POST / HTTP/1.1\" 200 -\n",
      "127.0.0.1 - - [06/Jun/2019 09:23:07] \"POST / HTTP/1.1\" 200 -\n"
     ]
    },
    {
     "name": "stdout",
     "output_type": "stream",
     "text": [
      "\n",
      "_________________________________________________________________________________________________________________________\n",
      "Mesaje de la API de Facebook->  {'object': 'page', 'entry': [{'id': '2153123008120093', 'time': 1559830987128, 'messaging': [{'sender': {'id': '3135661523115555'}, 'recipient': {'id': '2153123008120093'}, 'timestamp': 1559830987115, 'delivery': {'mids': ['Ax7yCrbolEUBI7LDancJfeHrAXMQsku05EX78-2sNmVbzYfqOvM6JqLi_B5aF1G5nFL8FLda7GpsPYElwbpMDA'], 'watermark': 1559830986771, 'seq': 0}}]}]}\n",
      "\n",
      "_________________________________________________________________________________________________________________________\n",
      "Mesaje de la API de Facebook->  {'object': 'page', 'entry': [{'id': '2153123008120093', 'time': 1559830987154, 'messaging': [{'sender': {'id': '3135661523115555'}, 'recipient': {'id': '2153123008120093'}, 'timestamp': 1559830987137, 'delivery': {'mids': ['Ax7yCrbolEUBI7LDancJfeHrAXMQsku05EX78-2sNmVbzYfqOvM6JqLi_B5aF1G5nFL8FLda7GpsPYElwbpMDA'], 'watermark': 1559830986771, 'seq': 0}}]}]}\n"
     ]
    },
    {
     "name": "stderr",
     "output_type": "stream",
     "text": [
      "127.0.0.1 - - [06/Jun/2019 09:23:10] \"POST / HTTP/1.1\" 200 -\n"
     ]
    },
    {
     "name": "stdout",
     "output_type": "stream",
     "text": [
      "\n",
      "_________________________________________________________________________________________________________________________\n",
      "Mesaje de la API de Facebook->  {'object': 'page', 'entry': [{'id': '2153123008120093', 'time': 1559830989461, 'messaging': [{'sender': {'id': '3135661523115555'}, 'recipient': {'id': '2153123008120093'}, 'timestamp': 1559830988988, 'postback': {'title': 'Consultar Estaciones', 'payload': 'Consultar Estaciones'}}]}]}\n",
      "\n",
      "_________________________________________________________________________________________________________________________\n",
      "Mensaje enviado al Nucleo Logico->  {\"payload\": [{\"robot\": \"none\", \"id_face\": \"2153123008120093\", \"recipient_id\": \"3135661523115555\", \"access_token\": \"none\", \"content\": \"Consultar Estaciones\", \"type_resp\": \"postback\", \"state\": \"none\", \"blocktype\": \"none\", \"opciones\": \"none\", \"entitites\": \" \", \"entities\": {}}]}\n",
      "\n",
      "_________________________________________________________________________________________________________________________\n",
      "Respuesta del Nucleo Logico->  {'Respuesta': [{'content': [{'title': 'Estacion con id 17', 'image_url': 'https://www.ecobici.cdmx.gob.mx/sites/default/files/u14/en_bicicletas-2.png', 'subtitle': 'Direccion = 017 - Reforma - Rio Tiber', 'buttons': [{'titleButton': 'Consultar', 'typeButton': 'postback', 'payloadButton': '17'}, {'titleButton': 'Más estaciones', 'typeButton': 'postback', 'payloadButton': 'ConsultarEstaciones'}]}, {'title': 'Estacion con id 19', 'image_url': 'https://www.ecobici.cdmx.gob.mx/sites/default/files/u14/en_bicicletas-2.png', 'subtitle': 'Direccion = 019 - Reforma - Río Rhin', 'buttons': [{'titleButton': 'Consultar', 'typeButton': 'postback', 'payloadButton': '19'}, {'titleButton': 'Más estaciones', 'typeButton': 'postback', 'payloadButton': 'ConsultarEstaciones'}]}, {'title': 'Estacion con id 21', 'image_url': 'https://www.ecobici.cdmx.gob.mx/sites/default/files/u14/en_bicicletas-2.png', 'subtitle': 'Direccion = 021 - Reforma - Dublin', 'buttons': [{'titleButton': 'Consultar', 'typeButton': 'postback', 'payloadButton': '21'}, {'titleButton': 'Más estaciones', 'typeButton': 'postback', 'payloadButton': 'ConsultarEstaciones'}]}, {'title': 'Estacion con id 36', 'image_url': 'https://www.ecobici.cdmx.gob.mx/sites/default/files/u14/en_bicicletas-2.png', 'subtitle': 'Direccion = 036 - Puebla - Veracruz', 'buttons': [{'titleButton': 'Consultar', 'typeButton': 'postback', 'payloadButton': '36'}, {'titleButton': 'Más estaciones', 'typeButton': 'postback', 'payloadButton': 'ConsultarEstaciones'}]}, {'title': 'Estacion con id 47', 'image_url': 'https://www.ecobici.cdmx.gob.mx/sites/default/files/u14/en_bicicletas-2.png', 'subtitle': 'Direccion = 047 - Glorieta Cibeles - Oaxaca', 'buttons': [{'titleButton': 'Consultar', 'typeButton': 'postback', 'payloadButton': '47'}, {'titleButton': 'Más estaciones', 'typeButton': 'postback', 'payloadButton': 'ConsultarEstaciones'}]}, {'title': 'Estacion con id 41', 'image_url': 'https://www.ecobici.cdmx.gob.mx/sites/default/files/u14/en_bicicletas-2.png', 'subtitle': 'Direccion = 041 - Reforma - Av. de la República', 'buttons': [{'titleButton': 'Consultar', 'typeButton': 'postback', 'payloadButton': '41'}, {'titleButton': 'Más estaciones', 'typeButton': 'postback', 'payloadButton': 'ConsultarEstaciones'}]}, {'title': 'Estacion con id 55', 'image_url': 'https://www.ecobici.cdmx.gob.mx/sites/default/files/u14/en_bicicletas-2.png', 'subtitle': 'Direccion = 055 - 5 de Mayo - Bolívar', 'buttons': [{'titleButton': 'Consultar', 'typeButton': 'postback', 'payloadButton': '55'}, {'titleButton': 'Más estaciones', 'typeButton': 'postback', 'payloadButton': 'ConsultarEstaciones'}]}, {'title': 'Estacion con id 57', 'image_url': 'https://www.ecobici.cdmx.gob.mx/sites/default/files/u14/en_bicicletas-2.png', 'subtitle': 'Direccion = 057 - Cuernavaca - Juan Escutia', 'buttons': [{'titleButton': 'Consultar', 'typeButton': 'postback', 'payloadButton': '57'}, {'titleButton': 'Más estaciones', 'typeButton': 'postback', 'payloadButton': 'ConsultarEstaciones'}]}, {'title': 'Estacion con id 66', 'image_url': 'https://www.ecobici.cdmx.gob.mx/sites/default/files/u14/en_bicicletas-2.png', 'subtitle': 'Direccion = 066 - Mazatlán - Francisco Marquez', 'buttons': [{'titleButton': 'Consultar', 'typeButton': 'postback', 'payloadButton': '66'}, {'titleButton': 'Más estaciones', 'typeButton': 'postback', 'payloadButton': 'ConsultarEstaciones'}]}, {'title': 'Estacion con id 74', 'image_url': 'https://www.ecobici.cdmx.gob.mx/sites/default/files/u14/en_bicicletas-2.png', 'subtitle': 'Direccion = 074 - Nuevo León - Ozulama', 'buttons': [{'titleButton': 'Consultar', 'typeButton': 'postback', 'payloadButton': '74'}, {'titleButton': 'Más estaciones', 'typeButton': 'postback', 'payloadButton': 'ConsultarEstaciones'}]}], 'next_id': 'DatosEstacion', 'blockType': 'slideDinamico', 'contentType': ' ', 'typingTime': '1', 'payload': [{'content': '', 'state': 'ConsultarEstaciones', 'recipient_id': '3135661523115555', 'entities': {'actual_pos': 30, 'VarTipoDato': 'id', 'VarSEstacion': '368'}, 'access_token': 'EAAHNkscg2TcBAPPdpr7JvPbpBMERatNnwpeJBzQb1LOR4tNWHVueapZA8b1Mk4d72WKNEdMpmz7GOg59pHoyIy7t4uJWChDDdZB9325zg9lxZAfvtC4VbMWsUwYb66UYeridurDFi4jainsZCVnlJiR42IM0VtctEXpayb5BXAZDZD'}]}]}\n",
      "\n",
      "_________________________________________________________________________________________________________________________\n",
      "Mensaje enviado a la API de  Facebook\n",
      "request_endpoint->  https://graph.facebook.com/v2.6/me/messages\n",
      "ruta-> {'access_token': 'EAAHNkscg2TcBAPPdpr7JvPbpBMERatNnwpeJBzQb1LOR4tNWHVueapZA8b1Mk4d72WKNEdMpmz7GOg59pHoyIy7t4uJWChDDdZB9325zg9lxZAfvtC4VbMWsUwYb66UYeridurDFi4jainsZCVnlJiR42IM0VtctEXpayb5BXAZDZD'}\n",
      "payload->  {'recipient': {'id': '3135661523115555'}, 'message': {'attachment': {'type': 'template', 'payload': {'template_type': 'generic', 'elements': [{'title': 'Estacion con id 17', 'image_url': 'https://www.ecobici.cdmx.gob.mx/sites/default/files/u14/en_bicicletas-2.png', 'subtitle': 'Direccion = 017 - Reforma - Rio Tiber', 'buttons': [{'title': 'Consultar', 'type': 'postback', 'payload': '17'}, {'title': 'Más estaciones', 'type': 'postback', 'payload': 'ConsultarEstaciones'}]}, {'title': 'Estacion con id 19', 'image_url': 'https://www.ecobici.cdmx.gob.mx/sites/default/files/u14/en_bicicletas-2.png', 'subtitle': 'Direccion = 019 - Reforma - Río Rhin', 'buttons': [{'title': 'Consultar', 'type': 'postback', 'payload': '19'}]}, {'title': 'Estacion con id 21', 'image_url': 'https://www.ecobici.cdmx.gob.mx/sites/default/files/u14/en_bicicletas-2.png', 'subtitle': 'Direccion = 021 - Reforma - Dublin', 'buttons': [{'title': 'Consultar', 'type': 'postback', 'payload': '21'}]}, {'title': 'Estacion con id 36', 'image_url': 'https://www.ecobici.cdmx.gob.mx/sites/default/files/u14/en_bicicletas-2.png', 'subtitle': 'Direccion = 036 - Puebla - Veracruz', 'buttons': [{'title': 'Consultar', 'type': 'postback', 'payload': '36'}]}, {'title': 'Estacion con id 47', 'image_url': 'https://www.ecobici.cdmx.gob.mx/sites/default/files/u14/en_bicicletas-2.png', 'subtitle': 'Direccion = 047 - Glorieta Cibeles - Oaxaca', 'buttons': [{'title': 'Consultar', 'type': 'postback', 'payload': '47'}]}, {'title': 'Estacion con id 41', 'image_url': 'https://www.ecobici.cdmx.gob.mx/sites/default/files/u14/en_bicicletas-2.png', 'subtitle': 'Direccion = 041 - Reforma - Av. de la República', 'buttons': [{'title': 'Consultar', 'type': 'postback', 'payload': '41'}]}, {'title': 'Estacion con id 55', 'image_url': 'https://www.ecobici.cdmx.gob.mx/sites/default/files/u14/en_bicicletas-2.png', 'subtitle': 'Direccion = 055 - 5 de Mayo - Bolívar', 'buttons': [{'title': 'Consultar', 'type': 'postback', 'payload': '55'}]}, {'title': 'Estacion con id 57', 'image_url': 'https://www.ecobici.cdmx.gob.mx/sites/default/files/u14/en_bicicletas-2.png', 'subtitle': 'Direccion = 057 - Cuernavaca - Juan Escutia', 'buttons': [{'title': 'Consultar', 'type': 'postback', 'payload': '57'}]}, {'title': 'Estacion con id 66', 'image_url': 'https://www.ecobici.cdmx.gob.mx/sites/default/files/u14/en_bicicletas-2.png', 'subtitle': 'Direccion = 066 - Mazatlán - Francisco Marquez', 'buttons': [{'title': 'Consultar', 'type': 'postback', 'payload': '66'}]}, {'title': 'Estacion con id 74', 'image_url': 'https://www.ecobici.cdmx.gob.mx/sites/default/files/u14/en_bicicletas-2.png', 'subtitle': 'Direccion = 074 - Nuevo León - Ozulama', 'buttons': [{'title': 'Consultar', 'type': 'postback', 'payload': '74'}]}]}}}, 'notification_type': 'REGULAR'}\n"
     ]
    },
    {
     "name": "stderr",
     "output_type": "stream",
     "text": [
      "127.0.0.1 - - [06/Jun/2019 09:23:14] \"POST / HTTP/1.1\" 200 -\n",
      "127.0.0.1 - - [06/Jun/2019 09:23:14] \"POST / HTTP/1.1\" 200 -\n"
     ]
    },
    {
     "name": "stdout",
     "output_type": "stream",
     "text": [
      "\n",
      "_________________________________________________________________________________________________________________________\n",
      "Mesaje de la API de Facebook->  {'object': 'page', 'entry': [{'id': '2153123008120093', 'time': 1559830993327, 'messaging': [{'sender': {'id': '3135661523115555'}, 'recipient': {'id': '2153123008120093'}, 'timestamp': 1559830993314, 'delivery': {'mids': ['e_pCuOJGKT2sBngSILN3-uHrAXMQsku05EX78-2sNmWvfBU7CGbNUFz0UmhR5lbmRT0sGx4AIMUUTjgybyJpiw'], 'watermark': 1559830992858, 'seq': 0}}]}]}\n",
      "\n",
      "_________________________________________________________________________________________________________________________\n",
      "Mesaje de la API de Facebook->  {'object': 'page', 'entry': [{'id': '2153123008120093', 'time': 1559830993379, 'messaging': [{'sender': {'id': '3135661523115555'}, 'recipient': {'id': '2153123008120093'}, 'timestamp': 1559830993369, 'delivery': {'mids': ['e_pCuOJGKT2sBngSILN3-uHrAXMQsku05EX78-2sNmWvfBU7CGbNUFz0UmhR5lbmRT0sGx4AIMUUTjgybyJpiw'], 'watermark': 1559830992858, 'seq': 0}}]}]}\n"
     ]
    },
    {
     "name": "stderr",
     "output_type": "stream",
     "text": [
      "127.0.0.1 - - [06/Jun/2019 10:55:47] \"POST / HTTP/1.1\" 200 -\n"
     ]
    },
    {
     "name": "stdout",
     "output_type": "stream",
     "text": [
      "\n",
      "_________________________________________________________________________________________________________________________\n",
      "Mesaje de la API de Facebook->  {'object': 'page', 'entry': [{'id': '2153123008120093', 'time': 1559836546229, 'messaging': [{'sender': {'id': '3135661523115555'}, 'recipient': {'id': '2153123008120093'}, 'timestamp': 1559836545735, 'message': {'mid': 'DrkYYADa75GCaHqxMcE2GOHrAXMQsku05EX78-2sNmWt0UdxMyQQ2Xu3ZwhBt5_gpgKDVEHTeT2kab4KIOhF4g', 'seq': 0, 'text': 'hola'}}]}]}\n",
      "\n",
      "_________________________________________________________________________________________________________________________\n",
      "Mensaje enviado al Nucleo Logico->  {\"payload\": [{\"robot\": \"none\", \"id_face\": \"2153123008120093\", \"recipient_id\": \"3135661523115555\", \"access_token\": \"none\", \"content\": \"hola\", \"type_resp\": \"message\", \"state\": \"none\", \"blocktype\": \"none\", \"opciones\": \"none\", \"entitites\": \" \", \"entities\": {}}]}\n",
      "\n",
      "_________________________________________________________________________________________________________________________\n",
      "Respuesta del Nucleo Logico->  {'Respuesta': [{'content': 'Qué deseas hacer', 'next_id': 'OpMenuAPI,Queja,Sugerencias', 'blockType': 'quickReply', 'contentType': ' ', 'typingTime': '1', 'payload': [{'content': '', 'state': 'OpMenu', 'recipient_id': '3135661523115555', 'entities': {'actual_pos': 30, 'VarTipoDato': 'id', 'VarSEstacion': '368'}, 'access_token': 'EAAHNkscg2TcBAPPdpr7JvPbpBMERatNnwpeJBzQb1LOR4tNWHVueapZA8b1Mk4d72WKNEdMpmz7GOg59pHoyIy7t4uJWChDDdZB9325zg9lxZAfvtC4VbMWsUwYb66UYeridurDFi4jainsZCVnlJiR42IM0VtctEXpayb5BXAZDZD'}], 'options': ['Consultar API', 'Poner queja', ' Ingresar sugerencia'], 'default_id': 'OpMenu', 'save_var': 'false'}]}\n",
      "\n",
      "_________________________________________________________________________________________________________________________\n",
      "Mensaje enviado a la API de  Facebook\n",
      "request_endpoint->  https://graph.facebook.com/v2.6/me/messages\n",
      "ruta-> {'access_token': 'EAAHNkscg2TcBAPPdpr7JvPbpBMERatNnwpeJBzQb1LOR4tNWHVueapZA8b1Mk4d72WKNEdMpmz7GOg59pHoyIy7t4uJWChDDdZB9325zg9lxZAfvtC4VbMWsUwYb66UYeridurDFi4jainsZCVnlJiR42IM0VtctEXpayb5BXAZDZD'}\n",
      "payload->  {'message': {'attachment': {'type': 'template', 'payload': {'template_type': 'button', 'text': 'Qué deseas hacer', 'buttons': [{'title': 'Consultar API', 'type': 'postback', 'payload': 'Consultar API'}, {'title': 'Poner queja', 'type': 'postback', 'payload': 'Poner queja'}, {'title': ' Ingresar sugerencia', 'type': 'postback', 'payload': ' Ingresar sugerencia'}]}}}, 'recipient': {'id': '3135661523115555'}, 'notification_type': 'REGULAR'}\n"
     ]
    },
    {
     "name": "stderr",
     "output_type": "stream",
     "text": [
      "127.0.0.1 - - [06/Jun/2019 10:55:51] \"POST / HTTP/1.1\" 200 -\n",
      "127.0.0.1 - - [06/Jun/2019 10:55:51] \"POST / HTTP/1.1\" 200 -\n"
     ]
    },
    {
     "name": "stdout",
     "output_type": "stream",
     "text": [
      "\n",
      "_________________________________________________________________________________________________________________________\n",
      "Mesaje de la API de Facebook->  {'object': 'page', 'entry': [{'id': '2153123008120093', 'time': 1559836550319, 'messaging': [{'sender': {'id': '3135661523115555'}, 'recipient': {'id': '2153123008120093'}, 'timestamp': 1559836550307, 'delivery': {'mids': ['sZj4syxvKOalXrWFH7ETGuHrAXMQsku05EX78-2sNmU6Yl5R_2de1UXsEJGOFBoibamo0-XFwoWTf75sAmOVgg'], 'watermark': 1559836549950, 'seq': 0}}]}]}\n",
      "\n",
      "_________________________________________________________________________________________________________________________\n",
      "Mesaje de la API de Facebook->  {'object': 'page', 'entry': [{'id': '2153123008120093', 'time': 1559836550350, 'messaging': [{'sender': {'id': '3135661523115555'}, 'recipient': {'id': '2153123008120093'}, 'timestamp': 1559836550339, 'delivery': {'mids': ['sZj4syxvKOalXrWFH7ETGuHrAXMQsku05EX78-2sNmU6Yl5R_2de1UXsEJGOFBoibamo0-XFwoWTf75sAmOVgg'], 'watermark': 1559836549950, 'seq': 0}}]}]}\n"
     ]
    },
    {
     "name": "stderr",
     "output_type": "stream",
     "text": [
      "127.0.0.1 - - [06/Jun/2019 10:56:04] \"POST / HTTP/1.1\" 200 -\n"
     ]
    },
    {
     "name": "stdout",
     "output_type": "stream",
     "text": [
      "\n",
      "_________________________________________________________________________________________________________________________\n",
      "Mesaje de la API de Facebook->  {'object': 'page', 'entry': [{'id': '2153123008120093', 'time': 1559836564193, 'messaging': [{'sender': {'id': '3135661523115555'}, 'recipient': {'id': '2153123008120093'}, 'timestamp': 1559836563813, 'message': {'mid': 'XZ-_m7TEKpjqFArLMz_yIOHrAXMQsku05EX78-2sNmW4Maw5tHs-Z0IJ6zPOv7x__3prX_FYEAo8am7J61XwWw', 'seq': 0, 'text': 'quiero consultar estaciones'}}]}]}\n",
      "\n",
      "_________________________________________________________________________________________________________________________\n",
      "Mensaje enviado al Nucleo Logico->  {\"payload\": [{\"robot\": \"none\", \"id_face\": \"2153123008120093\", \"recipient_id\": \"3135661523115555\", \"access_token\": \"none\", \"content\": \"quiero consultar estaciones\", \"type_resp\": \"message\", \"state\": \"none\", \"blocktype\": \"none\", \"opciones\": \"none\", \"entitites\": \" \", \"entities\": {}}]}\n",
      "\n",
      "_________________________________________________________________________________________________________________________\n",
      "Respuesta del Nucleo Logico->  {'Respuesta': [{'content': [{'title': 'Estacion con id 63', 'image_url': 'https://www.ecobici.cdmx.gob.mx/sites/default/files/u14/en_bicicletas-2.png', 'subtitle': 'Direccion = 063 - Nuevo León - Laredo', 'buttons': [{'titleButton': 'Consultar', 'typeButton': 'postback', 'payloadButton': '63'}, {'titleButton': 'Más estaciones', 'typeButton': 'postback', 'payloadButton': 'ConsultarEstaciones'}]}, {'title': 'Estacion con id 70', 'image_url': 'https://www.ecobici.cdmx.gob.mx/sites/default/files/u14/en_bicicletas-2.png', 'subtitle': 'Direccion = 070 - Parque México - Michoacan', 'buttons': [{'titleButton': 'Consultar', 'typeButton': 'postback', 'payloadButton': '70'}, {'titleButton': 'Más estaciones', 'typeButton': 'postback', 'payloadButton': 'ConsultarEstaciones'}]}, {'title': 'Estacion con id 88', 'image_url': 'https://www.ecobici.cdmx.gob.mx/sites/default/files/u14/en_bicicletas-2.png', 'subtitle': 'Direccion = 088 - 2a Cerrada de 5 de Mayo - Palma', 'buttons': [{'titleButton': 'Consultar', 'typeButton': 'postback', 'payloadButton': '88'}, {'titleButton': 'Más estaciones', 'typeButton': 'postback', 'payloadButton': 'ConsultarEstaciones'}]}, {'title': 'Estacion con id 72', 'image_url': 'https://www.ecobici.cdmx.gob.mx/sites/default/files/u14/en_bicicletas-2.png', 'subtitle': 'Direccion = 072 - Mazatlán - Alfonso Reyes', 'buttons': [{'titleButton': 'Consultar', 'typeButton': 'postback', 'payloadButton': '72'}, {'titleButton': 'Más estaciones', 'typeButton': 'postback', 'payloadButton': 'ConsultarEstaciones'}]}, {'title': 'Estacion con id 86', 'image_url': 'https://www.ecobici.cdmx.gob.mx/sites/default/files/u14/en_bicicletas-2.png', 'subtitle': 'Direccion = 086 - Sullivan-Insurgentes', 'buttons': [{'titleButton': 'Consultar', 'typeButton': 'postback', 'payloadButton': '86'}, {'titleButton': 'Más estaciones', 'typeButton': 'postback', 'payloadButton': 'ConsultarEstaciones'}]}, {'title': 'Estacion con id 102', 'image_url': 'https://www.ecobici.cdmx.gob.mx/sites/default/files/u14/en_bicicletas-2.png', 'subtitle': 'Direccion = 102 - Echeveste-Bolivar', 'buttons': [{'titleButton': 'Consultar', 'typeButton': 'postback', 'payloadButton': '102'}, {'titleButton': 'Más estaciones', 'typeButton': 'postback', 'payloadButton': 'ConsultarEstaciones'}]}, {'title': 'Estacion con id 110', 'image_url': 'https://www.ecobici.cdmx.gob.mx/sites/default/files/u14/en_bicicletas-2.png', 'subtitle': 'Direccion = 110 - Dr. Valenzuela-Dr. Río de la loza', 'buttons': [{'titleButton': 'Consultar', 'typeButton': 'postback', 'payloadButton': '110'}, {'titleButton': 'Más estaciones', 'typeButton': 'postback', 'payloadButton': 'ConsultarEstaciones'}]}, {'title': 'Estacion con id 111', 'image_url': 'https://www.ecobici.cdmx.gob.mx/sites/default/files/u14/en_bicicletas-2.png', 'subtitle': 'Direccion = 111 GUILLERMO PRIETO-JOAQUÍN VELÁZQUEZ DE LEÓN', 'buttons': [{'titleButton': 'Consultar', 'typeButton': 'postback', 'payloadButton': '111'}, {'titleButton': 'Más estaciones', 'typeButton': 'postback', 'payloadButton': 'ConsultarEstaciones'}]}, {'title': 'Estacion con id 112', 'image_url': 'https://www.ecobici.cdmx.gob.mx/sites/default/files/u14/en_bicicletas-2.png', 'subtitle': 'Direccion = 112 - Av. Morelos-Abraham González', 'buttons': [{'titleButton': 'Consultar', 'typeButton': 'postback', 'payloadButton': '112'}, {'titleButton': 'Más estaciones', 'typeButton': 'postback', 'payloadButton': 'ConsultarEstaciones'}]}, {'title': 'Estacion con id 123', 'image_url': 'https://www.ecobici.cdmx.gob.mx/sites/default/files/u14/en_bicicletas-2.png', 'subtitle': 'Direccion = 123 - Claudio Bernard-Dr. Lavista', 'buttons': [{'titleButton': 'Consultar', 'typeButton': 'postback', 'payloadButton': '123'}, {'titleButton': 'Más estaciones', 'typeButton': 'postback', 'payloadButton': 'ConsultarEstaciones'}]}], 'next_id': 'DatosEstacion', 'blockType': 'slideDinamico', 'contentType': ' ', 'typingTime': '1', 'payload': [{'content': '', 'state': 'ConsultarEstaciones', 'recipient_id': '3135661523115555', 'entities': {'actual_pos': 40, 'VarTipoDato': 'id', 'VarSEstacion': '368'}, 'access_token': 'EAAHNkscg2TcBAPPdpr7JvPbpBMERatNnwpeJBzQb1LOR4tNWHVueapZA8b1Mk4d72WKNEdMpmz7GOg59pHoyIy7t4uJWChDDdZB9325zg9lxZAfvtC4VbMWsUwYb66UYeridurDFi4jainsZCVnlJiR42IM0VtctEXpayb5BXAZDZD'}]}]}\n",
      "\n",
      "_________________________________________________________________________________________________________________________\n",
      "Mensaje enviado a la API de  Facebook\n",
      "request_endpoint->  https://graph.facebook.com/v2.6/me/messages\n",
      "ruta-> {'access_token': 'EAAHNkscg2TcBAPPdpr7JvPbpBMERatNnwpeJBzQb1LOR4tNWHVueapZA8b1Mk4d72WKNEdMpmz7GOg59pHoyIy7t4uJWChDDdZB9325zg9lxZAfvtC4VbMWsUwYb66UYeridurDFi4jainsZCVnlJiR42IM0VtctEXpayb5BXAZDZD'}\n",
      "payload->  {'recipient': {'id': '3135661523115555'}, 'message': {'attachment': {'type': 'template', 'payload': {'template_type': 'generic', 'elements': [{'title': 'Estacion con id 63', 'image_url': 'https://www.ecobici.cdmx.gob.mx/sites/default/files/u14/en_bicicletas-2.png', 'subtitle': 'Direccion = 063 - Nuevo León - Laredo', 'buttons': [{'title': 'Consultar', 'type': 'postback', 'payload': '63'}, {'title': 'Más estaciones', 'type': 'postback', 'payload': 'ConsultarEstaciones'}]}, {'title': 'Estacion con id 70', 'image_url': 'https://www.ecobici.cdmx.gob.mx/sites/default/files/u14/en_bicicletas-2.png', 'subtitle': 'Direccion = 070 - Parque México - Michoacan', 'buttons': [{'title': 'Consultar', 'type': 'postback', 'payload': '70'}]}, {'title': 'Estacion con id 88', 'image_url': 'https://www.ecobici.cdmx.gob.mx/sites/default/files/u14/en_bicicletas-2.png', 'subtitle': 'Direccion = 088 - 2a Cerrada de 5 de Mayo - Palma', 'buttons': [{'title': 'Consultar', 'type': 'postback', 'payload': '88'}]}, {'title': 'Estacion con id 72', 'image_url': 'https://www.ecobici.cdmx.gob.mx/sites/default/files/u14/en_bicicletas-2.png', 'subtitle': 'Direccion = 072 - Mazatlán - Alfonso Reyes', 'buttons': [{'title': 'Consultar', 'type': 'postback', 'payload': '72'}]}, {'title': 'Estacion con id 86', 'image_url': 'https://www.ecobici.cdmx.gob.mx/sites/default/files/u14/en_bicicletas-2.png', 'subtitle': 'Direccion = 086 - Sullivan-Insurgentes', 'buttons': [{'title': 'Consultar', 'type': 'postback', 'payload': '86'}]}, {'title': 'Estacion con id 102', 'image_url': 'https://www.ecobici.cdmx.gob.mx/sites/default/files/u14/en_bicicletas-2.png', 'subtitle': 'Direccion = 102 - Echeveste-Bolivar', 'buttons': [{'title': 'Consultar', 'type': 'postback', 'payload': '102'}]}, {'title': 'Estacion con id 110', 'image_url': 'https://www.ecobici.cdmx.gob.mx/sites/default/files/u14/en_bicicletas-2.png', 'subtitle': 'Direccion = 110 - Dr. Valenzuela-Dr. Río de la loza', 'buttons': [{'title': 'Consultar', 'type': 'postback', 'payload': '110'}]}, {'title': 'Estacion con id 111', 'image_url': 'https://www.ecobici.cdmx.gob.mx/sites/default/files/u14/en_bicicletas-2.png', 'subtitle': 'Direccion = 111 GUILLERMO PRIETO-JOAQUÍN VELÁZQUEZ DE LEÓN', 'buttons': [{'title': 'Consultar', 'type': 'postback', 'payload': '111'}]}, {'title': 'Estacion con id 112', 'image_url': 'https://www.ecobici.cdmx.gob.mx/sites/default/files/u14/en_bicicletas-2.png', 'subtitle': 'Direccion = 112 - Av. Morelos-Abraham González', 'buttons': [{'title': 'Consultar', 'type': 'postback', 'payload': '112'}]}, {'title': 'Estacion con id 123', 'image_url': 'https://www.ecobici.cdmx.gob.mx/sites/default/files/u14/en_bicicletas-2.png', 'subtitle': 'Direccion = 123 - Claudio Bernard-Dr. Lavista', 'buttons': [{'title': 'Consultar', 'type': 'postback', 'payload': '123'}]}]}}}, 'notification_type': 'REGULAR'}\n"
     ]
    },
    {
     "name": "stderr",
     "output_type": "stream",
     "text": [
      "127.0.0.1 - - [06/Jun/2019 10:56:10] \"POST / HTTP/1.1\" 200 -\n",
      "127.0.0.1 - - [06/Jun/2019 10:56:10] \"POST / HTTP/1.1\" 200 -\n"
     ]
    },
    {
     "name": "stdout",
     "output_type": "stream",
     "text": [
      "\n",
      "_________________________________________________________________________________________________________________________\n",
      "Mesaje de la API de Facebook->  {'object': 'page', 'entry': [{'id': '2153123008120093', 'time': 1559836570090, 'messaging': [{'sender': {'id': '3135661523115555'}, 'recipient': {'id': '2153123008120093'}, 'timestamp': 1559836570077, 'delivery': {'mids': ['ZTLYOoUNIpjBNPuhffTJuuHrAXMQsku05EX78-2sNmVKyDHs9UmVcIiBvAfviFBvmTWFdZ6UBInvVZNvWLG6SA'], 'watermark': 1559836569592, 'seq': 0}}]}]}\n",
      "\n",
      "_________________________________________________________________________________________________________________________\n",
      "Mesaje de la API de Facebook->  {'object': 'page', 'entry': [{'id': '2153123008120093', 'time': 1559836570096, 'messaging': [{'sender': {'id': '3135661523115555'}, 'recipient': {'id': '2153123008120093'}, 'timestamp': 1559836570083, 'delivery': {'mids': ['ZTLYOoUNIpjBNPuhffTJuuHrAXMQsku05EX78-2sNmVKyDHs9UmVcIiBvAfviFBvmTWFdZ6UBInvVZNvWLG6SA'], 'watermark': 1559836569592, 'seq': 0}}]}]}\n"
     ]
    },
    {
     "name": "stderr",
     "output_type": "stream",
     "text": [
      "127.0.0.1 - - [06/Jun/2019 10:56:47] \"POST / HTTP/1.1\" 200 -\n"
     ]
    },
    {
     "name": "stdout",
     "output_type": "stream",
     "text": [
      "\n",
      "_________________________________________________________________________________________________________________________\n",
      "Mesaje de la API de Facebook->  {'object': 'page', 'entry': [{'id': '2153123008120093', 'time': 1559836606497, 'messaging': [{'sender': {'id': '3135661523115555'}, 'recipient': {'id': '2153123008120093'}, 'timestamp': 1559836605994, 'message': {'mid': 'pzfHZSy6wZklQ3_fSMY7QeHrAXMQsku05EX78-2sNmVLy7k-ke1NkO_jdBfmsiZg_P2P7YdgfQcVSCEtbrFw5g', 'seq': 0, 'text': 'ingresar queja'}}]}]}\n",
      "\n",
      "_________________________________________________________________________________________________________________________\n",
      "Mensaje enviado al Nucleo Logico->  {\"payload\": [{\"robot\": \"none\", \"id_face\": \"2153123008120093\", \"recipient_id\": \"3135661523115555\", \"access_token\": \"none\", \"content\": \"ingresar queja\", \"type_resp\": \"message\", \"state\": \"none\", \"blocktype\": \"none\", \"opciones\": \"none\", \"entitites\": \" \", \"entities\": {}}]}\n",
      "\n",
      "_________________________________________________________________________________________________________________________\n",
      "Respuesta del Nucleo Logico->  {'Respuesta': [{'content': 'Qué deseas hacer', 'next_id': 'OpMenuAPI,Queja,Sugerencias', 'blockType': 'quickReply', 'contentType': ' ', 'typingTime': '1', 'payload': [{'content': '', 'state': 'OpMenu', 'recipient_id': '3135661523115555', 'entities': {'actual_pos': 40, 'VarTipoDato': 'id', 'VarSEstacion': '368'}, 'access_token': 'EAAHNkscg2TcBAPPdpr7JvPbpBMERatNnwpeJBzQb1LOR4tNWHVueapZA8b1Mk4d72WKNEdMpmz7GOg59pHoyIy7t4uJWChDDdZB9325zg9lxZAfvtC4VbMWsUwYb66UYeridurDFi4jainsZCVnlJiR42IM0VtctEXpayb5BXAZDZD'}], 'options': ['Consultar API', 'Poner queja', ' Ingresar sugerencia'], 'default_id': 'OpMenu', 'save_var': 'false'}]}\n",
      "\n",
      "_________________________________________________________________________________________________________________________\n",
      "Mensaje enviado a la API de  Facebook\n",
      "request_endpoint->  https://graph.facebook.com/v2.6/me/messages\n",
      "ruta-> {'access_token': 'EAAHNkscg2TcBAPPdpr7JvPbpBMERatNnwpeJBzQb1LOR4tNWHVueapZA8b1Mk4d72WKNEdMpmz7GOg59pHoyIy7t4uJWChDDdZB9325zg9lxZAfvtC4VbMWsUwYb66UYeridurDFi4jainsZCVnlJiR42IM0VtctEXpayb5BXAZDZD'}\n",
      "payload->  {'message': {'attachment': {'type': 'template', 'payload': {'template_type': 'button', 'text': 'Qué deseas hacer', 'buttons': [{'title': 'Consultar API', 'type': 'postback', 'payload': 'Consultar API'}, {'title': 'Poner queja', 'type': 'postback', 'payload': 'Poner queja'}, {'title': ' Ingresar sugerencia', 'type': 'postback', 'payload': ' Ingresar sugerencia'}]}}}, 'recipient': {'id': '3135661523115555'}, 'notification_type': 'REGULAR'}\n"
     ]
    },
    {
     "name": "stderr",
     "output_type": "stream",
     "text": [
      "127.0.0.1 - - [06/Jun/2019 10:56:50] \"POST / HTTP/1.1\" 200 -\n",
      "127.0.0.1 - - [06/Jun/2019 10:56:50] \"POST / HTTP/1.1\" 200 -\n"
     ]
    },
    {
     "name": "stdout",
     "output_type": "stream",
     "text": [
      "\n",
      "_________________________________________________________________________________________________________________________\n",
      "Mesaje de la API de Facebook->  {'object': 'page', 'entry': [{'id': '2153123008120093', 'time': 1559836609777, 'messaging': [{'sender': {'id': '3135661523115555'}, 'recipient': {'id': '2153123008120093'}, 'timestamp': 1559836609764, 'delivery': {'mids': ['s8mxzi9qGr1Z33QxRTbBrOHrAXMQsku05EX78-2sNmUUt8L_VQCIJDSo7nSNXagW6tstYxvQsJGfYt-sxSfKcg'], 'watermark': 1559836609412, 'seq': 0}}]}]}\n",
      "\n",
      "_________________________________________________________________________________________________________________________\n",
      "Mesaje de la API de Facebook->  {'object': 'page', 'entry': [{'id': '2153123008120093', 'time': 1559836609803, 'messaging': [{'sender': {'id': '3135661523115555'}, 'recipient': {'id': '2153123008120093'}, 'timestamp': 1559836609791, 'delivery': {'mids': ['s8mxzi9qGr1Z33QxRTbBrOHrAXMQsku05EX78-2sNmUUt8L_VQCIJDSo7nSNXagW6tstYxvQsJGfYt-sxSfKcg'], 'watermark': 1559836609412, 'seq': 0}}]}]}\n"
     ]
    },
    {
     "name": "stderr",
     "output_type": "stream",
     "text": [
      "127.0.0.1 - - [06/Jun/2019 10:57:11] \"POST / HTTP/1.1\" 200 -\n"
     ]
    },
    {
     "name": "stdout",
     "output_type": "stream",
     "text": [
      "\n",
      "_________________________________________________________________________________________________________________________\n",
      "Mesaje de la API de Facebook->  {'object': 'page', 'entry': [{'id': '2153123008120093', 'time': 1559836630610, 'messaging': [{'sender': {'id': '3135661523115555'}, 'recipient': {'id': '2153123008120093'}, 'timestamp': 1559836630051, 'postback': {'title': ' Ingresar sugerencia', 'payload': ' Ingresar sugerencia'}}]}]}\n",
      "\n",
      "_________________________________________________________________________________________________________________________\n",
      "Mensaje enviado al Nucleo Logico->  {\"payload\": [{\"robot\": \"none\", \"id_face\": \"2153123008120093\", \"recipient_id\": \"3135661523115555\", \"access_token\": \"none\", \"content\": \" Ingresar sugerencia\", \"type_resp\": \"postback\", \"state\": \"none\", \"blocktype\": \"none\", \"opciones\": \"none\", \"entitites\": \" \", \"entities\": {}}]}\n",
      "\n",
      "_________________________________________________________________________________________________________________________\n",
      "Respuesta del Nucleo Logico->  {'Respuesta': [{'content': 'En qué podria mejorar el servicio', 'next_id': 'Salida', 'blockType': 'input', 'contentType': 'text', 'typingTime': '1', 'payload': [{'content': '', 'state': 'Sugerencias', 'recipient_id': '3135661523115555', 'entities': {'actual_pos': 40, 'VarTipoDato': 'id', 'VarSEstacion': '368'}, 'access_token': 'EAAHNkscg2TcBAPPdpr7JvPbpBMERatNnwpeJBzQb1LOR4tNWHVueapZA8b1Mk4d72WKNEdMpmz7GOg59pHoyIy7t4uJWChDDdZB9325zg9lxZAfvtC4VbMWsUwYb66UYeridurDFi4jainsZCVnlJiR42IM0VtctEXpayb5BXAZDZD'}], 'validacion': '.*', 'Default_id': 'OpMenu', 'save_var': 'Var_sugerencia'}]}\n",
      "\n",
      "_________________________________________________________________________________________________________________________\n",
      "Mensaje enviado a la API de  Facebook\n",
      "request_endpoint->  https://graph.facebook.com/v2.6/me/messages\n",
      "ruta-> {'access_token': 'EAAHNkscg2TcBAPPdpr7JvPbpBMERatNnwpeJBzQb1LOR4tNWHVueapZA8b1Mk4d72WKNEdMpmz7GOg59pHoyIy7t4uJWChDDdZB9325zg9lxZAfvtC4VbMWsUwYb66UYeridurDFi4jainsZCVnlJiR42IM0VtctEXpayb5BXAZDZD'}\n",
      "payload->  {'message': {'text': 'En qué podria mejorar el servicio'}, 'recipient': {'id': '3135661523115555'}, 'notification_type': 'REGULAR'}\n"
     ]
    },
    {
     "name": "stderr",
     "output_type": "stream",
     "text": [
      "127.0.0.1 - - [06/Jun/2019 10:57:12] \"POST / HTTP/1.1\" 200 -\n",
      "127.0.0.1 - - [06/Jun/2019 10:57:12] \"POST / HTTP/1.1\" 200 -\n"
     ]
    },
    {
     "name": "stdout",
     "output_type": "stream",
     "text": [
      "\n",
      "_________________________________________________________________________________________________________________________\n",
      "Mesaje de la API de Facebook->  {'object': 'page', 'entry': [{'id': '2153123008120093', 'time': 1559836631676, 'messaging': [{'sender': {'id': '3135661523115555'}, 'recipient': {'id': '2153123008120093'}, 'timestamp': 1559836631665, 'delivery': {'mids': ['bHcyoxpHJo6d4TdeWo-i8eHrAXMQsku05EX78-2sNmV7Om6vEaMmh0SeaJt4Th6IORsR58Ffdr4pkAgQEOGufg'], 'watermark': 1559836631307, 'seq': 0}}]}]}\n",
      "\n",
      "_________________________________________________________________________________________________________________________\n",
      "Mesaje de la API de Facebook->  {'object': 'page', 'entry': [{'id': '2153123008120093', 'time': 1559836631679, 'messaging': [{'sender': {'id': '3135661523115555'}, 'recipient': {'id': '2153123008120093'}, 'timestamp': 1559836631667, 'delivery': {'mids': ['bHcyoxpHJo6d4TdeWo-i8eHrAXMQsku05EX78-2sNmV7Om6vEaMmh0SeaJt4Th6IORsR58Ffdr4pkAgQEOGufg'], 'watermark': 1559836631307, 'seq': 0}}]}]}\n"
     ]
    },
    {
     "name": "stderr",
     "output_type": "stream",
     "text": [
      "127.0.0.1 - - [06/Jun/2019 10:57:43] \"POST / HTTP/1.1\" 200 -\n"
     ]
    },
    {
     "name": "stdout",
     "output_type": "stream",
     "text": [
      "\n",
      "_________________________________________________________________________________________________________________________\n",
      "Mesaje de la API de Facebook->  {'object': 'page', 'entry': [{'id': '2153123008120093', 'time': 1559836662884, 'messaging': [{'sender': {'id': '3135661523115555'}, 'recipient': {'id': '2153123008120093'}, 'timestamp': 1559836662471, 'message': {'mid': 'jH6xKYdfmWGnweDgpGesEuHrAXMQsku05EX78-2sNmVDrSGy9p7OzC0TkZoYOyVvoDROU3iLABrSYbnQA3vKXA', 'seq': 0, 'text': 'Mas rapidez por favor'}}]}]}\n",
      "\n",
      "_________________________________________________________________________________________________________________________\n",
      "Mensaje enviado al Nucleo Logico->  {\"payload\": [{\"robot\": \"none\", \"id_face\": \"2153123008120093\", \"recipient_id\": \"3135661523115555\", \"access_token\": \"none\", \"content\": \"Mas rapidez por favor\", \"type_resp\": \"message\", \"state\": \"none\", \"blocktype\": \"none\", \"opciones\": \"none\", \"entitites\": \" \", \"entities\": {}}]}\n",
      "\n",
      "_________________________________________________________________________________________________________________________\n",
      "Respuesta del Nucleo Logico->  {'Respuesta': [{'content': 'Gracias por su visita, vuelva pronto', 'next_id': 'Saludo', 'blockType': 'informativo', 'contentType': 'text', 'typingTime': '1', 'payload': [{'content': '', 'state': 'Salida', 'recipient_id': '3135661523115555', 'entities': {'actual_pos': 40, 'VarTipoDato': 'id', 'VarSEstacion': '368', 'Var_sugerencia': 'Mas rapidez por favor'}, 'access_token': 'EAAHNkscg2TcBAPPdpr7JvPbpBMERatNnwpeJBzQb1LOR4tNWHVueapZA8b1Mk4d72WKNEdMpmz7GOg59pHoyIy7t4uJWChDDdZB9325zg9lxZAfvtC4VbMWsUwYb66UYeridurDFi4jainsZCVnlJiR42IM0VtctEXpayb5BXAZDZD'}]}]}\n",
      "\n",
      "_________________________________________________________________________________________________________________________\n",
      "Mensaje enviado a la API de  Facebook\n",
      "request_endpoint->  https://graph.facebook.com/v2.6/me/messages\n",
      "ruta-> {'access_token': 'EAAHNkscg2TcBAPPdpr7JvPbpBMERatNnwpeJBzQb1LOR4tNWHVueapZA8b1Mk4d72WKNEdMpmz7GOg59pHoyIy7t4uJWChDDdZB9325zg9lxZAfvtC4VbMWsUwYb66UYeridurDFi4jainsZCVnlJiR42IM0VtctEXpayb5BXAZDZD'}\n",
      "payload->  {'message': {'text': 'Gracias por su visita, vuelva pronto'}, 'recipient': {'id': '3135661523115555'}, 'notification_type': 'REGULAR'}\n"
     ]
    },
    {
     "name": "stderr",
     "output_type": "stream",
     "text": [
      "127.0.0.1 - - [06/Jun/2019 10:57:44] \"POST / HTTP/1.1\" 200 -\n",
      "127.0.0.1 - - [06/Jun/2019 10:57:44] \"POST / HTTP/1.1\" 200 -\n"
     ]
    },
    {
     "name": "stdout",
     "output_type": "stream",
     "text": [
      "\n",
      "_________________________________________________________________________________________________________________________\n",
      "Mesaje de la API de Facebook->  {'object': 'page', 'entry': [{'id': '2153123008120093', 'time': 1559836663939, 'messaging': [{'sender': {'id': '3135661523115555'}, 'recipient': {'id': '2153123008120093'}, 'timestamp': 1559836663926, 'delivery': {'mids': ['d-7C7q6DkA4pDv5G-Eid_uHrAXMQsku05EX78-2sNmXdejarftcMWu9lyzFWmYZORSCr8O1jfSFB-_Ka1r21Bg'], 'watermark': 1559836663562, 'seq': 0}}]}]}\n",
      "\n",
      "_________________________________________________________________________________________________________________________\n",
      "Mesaje de la API de Facebook->  {'object': 'page', 'entry': [{'id': '2153123008120093', 'time': 1559836663977, 'messaging': [{'sender': {'id': '3135661523115555'}, 'recipient': {'id': '2153123008120093'}, 'timestamp': 1559836663962, 'delivery': {'mids': ['d-7C7q6DkA4pDv5G-Eid_uHrAXMQsku05EX78-2sNmXdejarftcMWu9lyzFWmYZORSCr8O1jfSFB-_Ka1r21Bg'], 'watermark': 1559836663562, 'seq': 0}}]}]}\n"
     ]
    }
   ],
   "source": [
    "N_C=Nucleo_Cliente(\"Hilo_2\")\n",
    "response=None\n",
    "corr_id=' '\n",
    "connection = pika.BlockingConnection(pika.ConnectionParameters(host='localhost'))\n",
    "channel = connection.channel()\n",
    "result = channel.queue_declare(exclusive=True)\n",
    "callback_queue = result.method.queue\n",
    "channel.basic_consume(N_C.on_response, no_ack=True, queue=callback_queue)\n",
    "N_C.start()\n",
    "\n",
    "app = Flask(__name__)\n",
    "VERIFY_TOKEN = 'CadenaDeVerificacion10'\n",
    "\n",
    "@app.route(\"/\", methods=['GET', 'POST'])\n",
    "def receive_message():\n",
    "    if request.method == 'GET':\n",
    "        token_sent = request.args.get(\"hub.verify_token\")\n",
    "        return verify_fb_token(token_sent)\n",
    "    else:\n",
    "        output = request.get_json()\n",
    "        print('\\n_________________________________________________________________________________________________________________________')\n",
    "        print(\"Mesaje de la API de Facebook-> \",output)\n",
    "        for event in output['entry']:\n",
    "            messaging = event['messaging']\n",
    "            id_face = event['id']\n",
    "            for message in messaging:\n",
    "                if message.get('message') or message.get('postback'):\n",
    "                    recipient_id = message['sender']['id']                 \n",
    "                    enviarNucleo(recipient_id, id_face, messaging)\n",
    "    \n",
    "    return \"Message Processed\"\n",
    "        \n",
    "\n",
    "if __name__ == \"__main__\":\n",
    "    app.run()"
   ]
  },
  {
   "cell_type": "code",
   "execution_count": null,
   "metadata": {},
   "outputs": [],
   "source": []
  }
 ],
 "metadata": {
  "kernelspec": {
   "display_name": "Python 3",
   "language": "python",
   "name": "python3"
  },
  "language_info": {
   "codemirror_mode": {
    "name": "ipython",
    "version": 3
   },
   "file_extension": ".py",
   "mimetype": "text/x-python",
   "name": "python",
   "nbconvert_exporter": "python",
   "pygments_lexer": "ipython3",
   "version": "3.7.3"
  }
 },
 "nbformat": 4,
 "nbformat_minor": 2
}
