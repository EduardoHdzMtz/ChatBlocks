{
 "cells": [
  {
   "cell_type": "code",
   "execution_count": 1,
   "metadata": {},
   "outputs": [],
   "source": [
    "import json\n",
    "import pika\n",
    "import uuid\n",
    "import threading \n",
    "import datetime\n",
    "import time\n",
    "import logging\n",
    "import random\n",
    "import requests\n",
    "import os\n",
    "from enum import Enum\n",
    "from flask import Flask, request, jsonify\n",
    "from pymessenger import Element, Button\n",
    "from requests_toolbelt import MultipartEncoder\n",
    "from pymessenger import utils"
   ]
  },
  {
   "cell_type": "code",
   "execution_count": 2,
   "metadata": {},
   "outputs": [],
   "source": [
    "class NotificationType(Enum):\n",
    "    regular = \"REGULAR\"\n",
    "    silent_push = \"SILENT_PUSH\"\n",
    "    no_push = \"NO_PUSH\""
   ]
  },
  {
   "cell_type": "code",
   "execution_count": 3,
   "metadata": {},
   "outputs": [],
   "source": [
    "def verify_fb_token(token_sent):\n",
    "    print(\"---Cadena---> \", token_sent)\n",
    "    if token_sent == VERIFY_TOKEN:\n",
    "        print(\"token valido\")\n",
    "        return request.args.get(\"hub.challenge\")\n",
    "    return 'Verificacion de token invalida'"
   ]
  },
  {
   "cell_type": "code",
   "execution_count": 4,
   "metadata": {},
   "outputs": [],
   "source": [
    "def enviarNucleo(recipient_id, id_face, mensaje):\n",
    "    global connection\n",
    "    global channel\n",
    "    global result\n",
    "    global callback_queue\n",
    "    global response\n",
    "    global corr_id\n",
    "        \n",
    "    cont=0\n",
    "    content=' '\n",
    "    type_resp=' '\n",
    "    if \"postback\" in mensaje[0]:\n",
    "        content=mensaje[0][\"postback\"][\"payload\"]\n",
    "        type_resp=\"postback\"\n",
    "    elif \"message\" in mensaje[0]:\n",
    "        content=mensaje[0][\"message\"][\"text\"]\n",
    "        type_resp=\"message\"\n",
    "\n",
    "    \n",
    "    entidad={}\n",
    "    estado = \"none\"\n",
    "    tipo=\"none\"\n",
    "    opciones=\"none\"            \n",
    "        \n",
    "    n=  {\"payload\": [{\"robot\":\" \",\"id_face\":\" \",\"recipient_id\":\" \",\"access_token\":\" \",\"content\":\" \",\"type_resp\":\" \",\"state\":\" \", \"blocktype\":\" \", \"opciones\":\" \", \"entitites\":\" \"}]}\n",
    "    data=json.dumps(n)\n",
    "    decoded=json.loads(data)\n",
    "    decoded[\"payload\"][0][\"robot\"]=\"none\"\n",
    "    decoded[\"payload\"][0][\"id_face\"]=id_face\n",
    "    decoded[\"payload\"][0][\"access_token\"]=\"none\"\n",
    "    decoded[\"payload\"][0][\"recipient_id\"]=recipient_id\n",
    "    decoded[\"payload\"][0][\"content\"]=content\n",
    "    decoded[\"payload\"][0][\"type_resp\"]=type_resp\n",
    "    decoded[\"payload\"][0][\"state\"]=estado\n",
    "    decoded[\"payload\"][0][\"blocktype\"]=tipo\n",
    "    decoded[\"payload\"][0][\"opciones\"]=opciones\n",
    "    decoded[\"payload\"][0][\"entities\"]= entidad\n",
    "    data_string=json.dumps(decoded)\n",
    "    print('\\n_________________________________________________________________________________________________________________________')\n",
    "    print('Mensaje enviado al Nucleo Logico-> ',data_string)\n",
    "    corr_id = str(uuid.uuid4())\n",
    "    channel.basic_publish(exchange='',\n",
    "                                routing_key='chatbotVB101',\n",
    "                                properties=pika.BasicProperties(\n",
    "                                        reply_to = callback_queue,\n",
    "                                        correlation_id = corr_id,\n",
    "                                        ),\n",
    "                                body=str(data_string))"
   ]
  },
  {
   "cell_type": "code",
   "execution_count": 5,
   "metadata": {},
   "outputs": [],
   "source": [
    "def send_message(payload,access_token):\n",
    "    api_version = 2.6\n",
    "    graph_url = 'https://graph.facebook.com/v{0}'.format(api_version)\n",
    "    request_endpoint = '{0}/me/messages'.format(graph_url)\n",
    "    auth = {'access_token': access_token}\n",
    "    print('\\n_________________________________________________________________________________________________________________________')\n",
    "    print('Mensaje enviado a la API de  Facebook')\n",
    "    print('request_endpoint-> ',request_endpoint)\n",
    "    print('ruta->',auth)\n",
    "    print('payload-> ',payload)        \n",
    "    response = requests.post(\n",
    "        request_endpoint,\n",
    "        params=auth,\n",
    "        json=payload\n",
    "    )\n",
    "    result = response.json()\n",
    "    return result"
   ]
  },
  {
   "cell_type": "code",
   "execution_count": 6,
   "metadata": {},
   "outputs": [],
   "source": [
    "def text_message(recipient_id, response,access_token):\n",
    "    payload={'message': {'text': response}, 'recipient': {'id': recipient_id}, 'notification_type': 'REGULAR'}\n",
    "    respuesta=send_message(payload,access_token)\n",
    "    return \"success\""
   ]
  },
  {
   "cell_type": "code",
   "execution_count": 7,
   "metadata": {},
   "outputs": [],
   "source": [
    "def button_message(recipient_id,content,options,access_token):\n",
    "    buttons = []\n",
    "    cont=0\n",
    "    for opc in options:\n",
    "        button = Button(title=opc, type='postback', payload=opc)\n",
    "        buttons.append(button)\n",
    "        cont=cont+1\n",
    "        if cont>2:\n",
    "            break\n",
    "    \n",
    "    payload={'message': {'attachment': {'type': 'template', 'payload': {'template_type': 'button', 'text': content, 'buttons': buttons}}}, 'recipient': {'id': recipient_id}, 'notification_type': 'REGULAR'}\n",
    "    \n",
    "    result=send_message(payload,access_token)\n",
    "    assert type(result) is dict\n",
    "    assert result.get('message_id') is not None\n",
    "    assert result.get('recipient_id') is not None"
   ]
  },
  {
   "cell_type": "code",
   "execution_count": 8,
   "metadata": {},
   "outputs": [],
   "source": [
    "def slide_message(recipient_id,content,access_token):\n",
    "    buttons =[]\n",
    "    elements=[]\n",
    "    element={'title':'', 'image_url':'', 'subtitle':'', 'buttons':[]}\n",
    "    cont=0\n",
    "    \n",
    "    for data in content: \n",
    "        buttons =[]\n",
    "        for btn in data['buttons']:\n",
    "            if btn['typeButton']=='web_url':\n",
    "                button = Button(title=btn['titleButton'], type='web_url', url=btn['urlButton'])                \n",
    "            elif btn['typeButton']=='postback':\n",
    "                button = Button(title=btn['titleButton'], type='postback', payload=btn['payloadButton'])\n",
    "            buttons.append(button)\n",
    "            cont=cont+1\n",
    "            if cont>2:\n",
    "                break\n",
    "        element={'title':data['title'], 'image_url':data['image_url'], 'subtitle':data['subtitle'], 'buttons':buttons}\n",
    "        elements.append(element)   \n",
    "    \n",
    "    payload={\"recipient\": {\"id\":recipient_id}, \"message\":{\"attachment\": {\"type\":\"template\", \"payload\": {\"template_type\":\"generic\", \"elements\":elements}}}, 'notification_type': 'REGULAR'}\n",
    "    \n",
    "    result=send_message(payload,access_token)\n",
    "    assert type(result) is dict\n",
    "    assert result.get('message_id') is not None\n",
    "    assert result.get('recipient_id') is not None"
   ]
  },
  {
   "cell_type": "code",
   "execution_count": 9,
   "metadata": {},
   "outputs": [],
   "source": [
    "def ticket_message(recipient_id,content,access_token):\n",
    "    payload={\"recipient\":{\"id\":recipient_id},\"message\":{\"attachment\":{\"type\":\"template\",\"payload\":content}}}\n",
    "    \n",
    "    result=send_message(payload,access_token)\n",
    "    assert type(result) is dict\n",
    "    assert result.get('message_id') is not None\n",
    "    assert result.get('recipient_id') is not None"
   ]
  },
  {
   "cell_type": "code",
   "execution_count": 10,
   "metadata": {},
   "outputs": [],
   "source": [
    "def conv(msj):\n",
    "    ans=' '\n",
    "    contenido=msj[\"Respuesta\"][0][\"content\"]\n",
    "    estado=msj[\"Respuesta\"][0][\"payload\"][0][\"state\"]\n",
    "    entidad= msj[\"Respuesta\"][0][\"payload\"][0][\"entities\"]\n",
    "    tipo= msj[\"Respuesta\"][0][\"blockType\"]\n",
    "    recipient_id=msj['Respuesta'][0]['payload'][0]['recipient_id']\n",
    "    access_token=msj['Respuesta'][0]['payload'][0]['access_token']\n",
    "    #print(str(contenido))\n",
    "       \n",
    "    if(tipo==\"quickReply\" or tipo==\"quickReplyDinamico\"):\n",
    "        button_message(recipient_id, contenido, msj[\"Respuesta\"][0][\"options\"],access_token)\n",
    "        return entidad, ans, estado, tipo, msj[\"Respuesta\"][0][\"options\"]\n",
    "        \n",
    "    elif(tipo==\"input\" or tipo==\"inputDinamico\"):\n",
    "        text_message(recipient_id, contenido,access_token)\n",
    "        return entidad, ans, estado, tipo, 'vacio'\n",
    "        \n",
    "    elif(tipo==\"informativo\" or tipo==\"informativoDinamico\"):\n",
    "        text_message(recipient_id, contenido,access_token)\n",
    "        return entidad, str('next'), estado, tipo, 'vacio'\n",
    "    \n",
    "    elif(tipo==\"slide\" or tipo==\"slideBuy\" or tipo==\"slideDinamico\"):\n",
    "        slide_message(recipient_id, contenido,access_token)\n",
    "        return entidad, str('next'), estado, tipo, 'vacio'\n",
    "    elif(tipo==\"ticket\"):\n",
    "        ticket_message(recipient_id, contenido,access_token)\n",
    "        return entidad, str('next'), estado, tipo, 'vacio'\n",
    "    else:\n",
    "        return entidad, str('hey'), estado, tipo, 'vacio'"
   ]
  },
  {
   "cell_type": "code",
   "execution_count": 11,
   "metadata": {},
   "outputs": [],
   "source": [
    "class Nucleo_Cliente(threading.Thread):\n",
    "    def __init__(self, nombreHilo):        \n",
    "        threading.Thread.__init__(self, name=nombreHilo, target=Nucleo_Cliente.run)\n",
    "        self.nombrehilo=nombreHilo\n",
    "        \n",
    "    def run(self):\n",
    "        response = self.call()\n",
    "        print(\" [.] Got %r\", response)              \n",
    "        \n",
    "    def on_response(self, ch, method, props, body):\n",
    "        global response\n",
    "        global corr_id\n",
    "        if corr_id == props.correlation_id:\n",
    "            response = body\n",
    "            \n",
    "    def call(self):\n",
    "        global connection\n",
    "        global channel\n",
    "        global result\n",
    "        global callback_queue\n",
    "        global response\n",
    "        \n",
    "        cont=0\n",
    "        while(cont>=0):\n",
    "            response = None\n",
    "            while response is None:\n",
    "                connection.process_data_events()\n",
    "            \n",
    "            if len(response)>10:\n",
    "                data = json.loads(response)\n",
    "                print('\\n_________________________________________________________________________________________________________________________')\n",
    "                print('Respuesta del Nucleo Logico-> ',data)\n",
    "                entidad, resp, estado, tipo, opciones= conv(data)"
   ]
  },
  {
   "cell_type": "code",
   "execution_count": 12,
   "metadata": {
    "scrolled": true
   },
   "outputs": [
    {
     "name": "stdout",
     "output_type": "stream",
     "text": [
      " * Serving Flask app \"__main__\" (lazy loading)\n",
      " * Environment: production\n",
      "   WARNING: Do not use the development server in a production environment.\n",
      "   Use a production WSGI server instead.\n",
      " * Debug mode: off\n"
     ]
    },
    {
     "name": "stderr",
     "output_type": "stream",
     "text": [
      " * Running on http://127.0.0.1:5000/ (Press CTRL+C to quit)\n",
      "127.0.0.1 - - [03/Jul/2019 14:12:17] \"POST /apiREST/v1 HTTP/1.1\" 400 -\n"
     ]
    },
    {
     "name": "stdout",
     "output_type": "stream",
     "text": [
      "Iniciando proceso\n",
      "<Request 'http://127.0.0.1:5000/apiREST/v1' [POST]>\n"
     ]
    },
    {
     "name": "stderr",
     "output_type": "stream",
     "text": [
      "[2019-07-03 14:12:50,378] ERROR in app: Exception on /apiREST/v1 [POST]\n",
      "Traceback (most recent call last):\n",
      "  File \"C:\\ProgramData\\Anaconda3\\lib\\site-packages\\flask\\app.py\", line 2292, in wsgi_app\n",
      "    response = self.full_dispatch_request()\n",
      "  File \"C:\\ProgramData\\Anaconda3\\lib\\site-packages\\flask\\app.py\", line 1815, in full_dispatch_request\n",
      "    rv = self.handle_user_exception(e)\n",
      "  File \"C:\\ProgramData\\Anaconda3\\lib\\site-packages\\flask\\app.py\", line 1718, in handle_user_exception\n",
      "    reraise(exc_type, exc_value, tb)\n",
      "  File \"C:\\ProgramData\\Anaconda3\\lib\\site-packages\\flask\\_compat.py\", line 35, in reraise\n",
      "    raise value\n",
      "  File \"C:\\ProgramData\\Anaconda3\\lib\\site-packages\\flask\\app.py\", line 1813, in full_dispatch_request\n",
      "    rv = self.dispatch_request()\n",
      "  File \"C:\\ProgramData\\Anaconda3\\lib\\site-packages\\flask\\app.py\", line 1799, in dispatch_request\n",
      "    return self.view_functions[rule.endpoint](**req.view_args)\n",
      "  File \"<ipython-input-12-4ce2ebe268ed>\", line 30, in receive_message\n",
      "    for event in output['entry']:\n",
      "KeyError: 'entry'\n",
      "127.0.0.1 - - [03/Jul/2019 14:12:50] \"POST /apiREST/v1 HTTP/1.1\" 500 -\n"
     ]
    },
    {
     "name": "stdout",
     "output_type": "stream",
     "text": [
      "Iniciando proceso\n",
      "<Request 'http://127.0.0.1:5000/apiREST/v1' [POST]>\n",
      "\n",
      "_________________________________________________________________________________________________________________________\n",
      "Mesaje de la API de Facebook->  {'verify_token': 'CadenaDeVerificacion'}\n"
     ]
    },
    {
     "name": "stderr",
     "output_type": "stream",
     "text": [
      "127.0.0.1 - - [03/Jul/2019 14:13:23] \"POST /apiREST/v1 HTTP/1.1\" 400 -\n"
     ]
    },
    {
     "name": "stdout",
     "output_type": "stream",
     "text": [
      "Iniciando proceso\n",
      "<Request 'http://127.0.0.1:5000/apiREST/v1' [POST]>\n"
     ]
    },
    {
     "name": "stderr",
     "output_type": "stream",
     "text": [
      "[2019-07-03 14:14:43,201] ERROR in app: Exception on /apiREST/v1 [POST]\n",
      "Traceback (most recent call last):\n",
      "  File \"C:\\ProgramData\\Anaconda3\\lib\\site-packages\\flask\\app.py\", line 2292, in wsgi_app\n",
      "    response = self.full_dispatch_request()\n",
      "  File \"C:\\ProgramData\\Anaconda3\\lib\\site-packages\\flask\\app.py\", line 1815, in full_dispatch_request\n",
      "    rv = self.handle_user_exception(e)\n",
      "  File \"C:\\ProgramData\\Anaconda3\\lib\\site-packages\\flask\\app.py\", line 1718, in handle_user_exception\n",
      "    reraise(exc_type, exc_value, tb)\n",
      "  File \"C:\\ProgramData\\Anaconda3\\lib\\site-packages\\flask\\_compat.py\", line 35, in reraise\n",
      "    raise value\n",
      "  File \"C:\\ProgramData\\Anaconda3\\lib\\site-packages\\flask\\app.py\", line 1813, in full_dispatch_request\n",
      "    rv = self.dispatch_request()\n",
      "  File \"C:\\ProgramData\\Anaconda3\\lib\\site-packages\\flask\\app.py\", line 1799, in dispatch_request\n",
      "    return self.view_functions[rule.endpoint](**req.view_args)\n",
      "  File \"<ipython-input-12-4ce2ebe268ed>\", line 30, in receive_message\n",
      "    for event in output['entry']:\n",
      "KeyError: 'entry'\n",
      "127.0.0.1 - - [03/Jul/2019 14:14:43] \"POST /apiREST/v1 HTTP/1.1\" 500 -\n"
     ]
    },
    {
     "name": "stdout",
     "output_type": "stream",
     "text": [
      "Iniciando proceso\n",
      "<Request 'http://127.0.0.1:5000/apiREST/v1' [POST]>\n",
      "\n",
      "_________________________________________________________________________________________________________________________\n",
      "Mesaje de la API de Facebook->  {'verify_token': 'CadenaDeVerificacion'}\n"
     ]
    },
    {
     "name": "stderr",
     "output_type": "stream",
     "text": [
      "[2019-07-03 14:14:48,490] ERROR in app: Exception on /apiREST/v1 [POST]\n",
      "Traceback (most recent call last):\n",
      "  File \"C:\\ProgramData\\Anaconda3\\lib\\site-packages\\flask\\app.py\", line 2292, in wsgi_app\n",
      "    response = self.full_dispatch_request()\n",
      "  File \"C:\\ProgramData\\Anaconda3\\lib\\site-packages\\flask\\app.py\", line 1815, in full_dispatch_request\n",
      "    rv = self.handle_user_exception(e)\n",
      "  File \"C:\\ProgramData\\Anaconda3\\lib\\site-packages\\flask\\app.py\", line 1718, in handle_user_exception\n",
      "    reraise(exc_type, exc_value, tb)\n",
      "  File \"C:\\ProgramData\\Anaconda3\\lib\\site-packages\\flask\\_compat.py\", line 35, in reraise\n",
      "    raise value\n",
      "  File \"C:\\ProgramData\\Anaconda3\\lib\\site-packages\\flask\\app.py\", line 1813, in full_dispatch_request\n",
      "    rv = self.dispatch_request()\n",
      "  File \"C:\\ProgramData\\Anaconda3\\lib\\site-packages\\flask\\app.py\", line 1799, in dispatch_request\n",
      "    return self.view_functions[rule.endpoint](**req.view_args)\n",
      "  File \"<ipython-input-12-4ce2ebe268ed>\", line 30, in receive_message\n",
      "    for event in output['entry']:\n",
      "KeyError: 'entry'\n",
      "127.0.0.1 - - [03/Jul/2019 14:14:48] \"POST /apiREST/v1 HTTP/1.1\" 500 -\n"
     ]
    },
    {
     "name": "stdout",
     "output_type": "stream",
     "text": [
      "Iniciando proceso\n",
      "<Request 'http://127.0.0.1:5000/apiREST/v1' [POST]>\n",
      "\n",
      "_________________________________________________________________________________________________________________________\n",
      "Mesaje de la API de Facebook->  {'verify_token': 'CadenaDeVerificacion'}\n"
     ]
    },
    {
     "name": "stderr",
     "output_type": "stream",
     "text": [
      "127.0.0.1 - - [03/Jul/2019 14:16:51] \"POST /apiREST/v1 HTTP/1.1\" 400 -\n"
     ]
    },
    {
     "name": "stdout",
     "output_type": "stream",
     "text": [
      "Iniciando proceso\n",
      "<Request 'http://127.0.0.1:5000/apiREST/v1' [POST]>\n"
     ]
    },
    {
     "name": "stderr",
     "output_type": "stream",
     "text": [
      "127.0.0.1 - - [03/Jul/2019 14:19:05] \"POST /apiREST/v1 HTTP/1.1\" 400 -\n"
     ]
    },
    {
     "name": "stdout",
     "output_type": "stream",
     "text": [
      "Iniciando proceso\n",
      "<Request 'http://127.0.0.1:5000/apiREST/v1' [POST]>\n"
     ]
    },
    {
     "name": "stderr",
     "output_type": "stream",
     "text": [
      "127.0.0.1 - - [03/Jul/2019 14:22:05] \"POST /apiREST/v1 HTTP/1.1\" 400 -\n"
     ]
    },
    {
     "name": "stdout",
     "output_type": "stream",
     "text": [
      "Iniciando proceso\n",
      "<Request 'http://127.0.0.1:5000/apiREST/v1' [POST]>\n"
     ]
    },
    {
     "name": "stderr",
     "output_type": "stream",
     "text": [
      "127.0.0.1 - - [03/Jul/2019 14:24:21] \"POST /apiREST/v1 HTTP/1.1\" 400 -\n"
     ]
    },
    {
     "name": "stdout",
     "output_type": "stream",
     "text": [
      "Iniciando proceso\n",
      "<Request 'http://127.0.0.1:5000/apiREST/v1' [POST]>\n"
     ]
    },
    {
     "name": "stderr",
     "output_type": "stream",
     "text": [
      "[2019-07-03 14:24:41,696] ERROR in app: Exception on /apiREST/v1 [POST]\n",
      "Traceback (most recent call last):\n",
      "  File \"C:\\ProgramData\\Anaconda3\\lib\\site-packages\\flask\\app.py\", line 2292, in wsgi_app\n",
      "    response = self.full_dispatch_request()\n",
      "  File \"C:\\ProgramData\\Anaconda3\\lib\\site-packages\\flask\\app.py\", line 1815, in full_dispatch_request\n",
      "    rv = self.handle_user_exception(e)\n",
      "  File \"C:\\ProgramData\\Anaconda3\\lib\\site-packages\\flask\\app.py\", line 1718, in handle_user_exception\n",
      "    reraise(exc_type, exc_value, tb)\n",
      "  File \"C:\\ProgramData\\Anaconda3\\lib\\site-packages\\flask\\_compat.py\", line 35, in reraise\n",
      "    raise value\n",
      "  File \"C:\\ProgramData\\Anaconda3\\lib\\site-packages\\flask\\app.py\", line 1813, in full_dispatch_request\n",
      "    rv = self.dispatch_request()\n",
      "  File \"C:\\ProgramData\\Anaconda3\\lib\\site-packages\\flask\\app.py\", line 1799, in dispatch_request\n",
      "    return self.view_functions[rule.endpoint](**req.view_args)\n",
      "  File \"<ipython-input-12-4ce2ebe268ed>\", line 30, in receive_message\n",
      "    for event in output['entry']:\n",
      "KeyError: 'entry'\n",
      "127.0.0.1 - - [03/Jul/2019 14:24:41] \"POST /apiREST/v1 HTTP/1.1\" 500 -\n"
     ]
    },
    {
     "name": "stdout",
     "output_type": "stream",
     "text": [
      "Iniciando proceso\n",
      "<Request 'http://127.0.0.1:5000/apiREST/v1' [POST]>\n",
      "\n",
      "_________________________________________________________________________________________________________________________\n",
      "Mesaje de la API de Facebook->  {'object': 'page'}\n"
     ]
    },
    {
     "name": "stderr",
     "output_type": "stream",
     "text": [
      "[2019-07-03 14:24:59,090] ERROR in app: Exception on /apiREST/v1 [POST]\n",
      "Traceback (most recent call last):\n",
      "  File \"C:\\ProgramData\\Anaconda3\\lib\\site-packages\\flask\\app.py\", line 2292, in wsgi_app\n",
      "    response = self.full_dispatch_request()\n",
      "  File \"C:\\ProgramData\\Anaconda3\\lib\\site-packages\\flask\\app.py\", line 1815, in full_dispatch_request\n",
      "    rv = self.handle_user_exception(e)\n",
      "  File \"C:\\ProgramData\\Anaconda3\\lib\\site-packages\\flask\\app.py\", line 1718, in handle_user_exception\n",
      "    reraise(exc_type, exc_value, tb)\n",
      "  File \"C:\\ProgramData\\Anaconda3\\lib\\site-packages\\flask\\_compat.py\", line 35, in reraise\n",
      "    raise value\n",
      "  File \"C:\\ProgramData\\Anaconda3\\lib\\site-packages\\flask\\app.py\", line 1813, in full_dispatch_request\n",
      "    rv = self.dispatch_request()\n",
      "  File \"C:\\ProgramData\\Anaconda3\\lib\\site-packages\\flask\\app.py\", line 1799, in dispatch_request\n",
      "    return self.view_functions[rule.endpoint](**req.view_args)\n",
      "  File \"<ipython-input-12-4ce2ebe268ed>\", line 30, in receive_message\n",
      "    for event in output['entry']:\n",
      "KeyError: 'entry'\n",
      "127.0.0.1 - - [03/Jul/2019 14:24:59] \"POST /apiREST/v1 HTTP/1.1\" 500 -\n"
     ]
    },
    {
     "name": "stdout",
     "output_type": "stream",
     "text": [
      "Iniciando proceso\n",
      "<Request 'http://127.0.0.1:5000/apiREST/v1' [POST]>\n",
      "\n",
      "_________________________________________________________________________________________________________________________\n",
      "Mesaje de la API de Facebook->  {'object': 'page'}\n"
     ]
    },
    {
     "name": "stderr",
     "output_type": "stream",
     "text": [
      "127.0.0.1 - - [03/Jul/2019 14:25:38] \"POST /apiREST/v1 HTTP/1.1\" 400 -\n"
     ]
    },
    {
     "name": "stdout",
     "output_type": "stream",
     "text": [
      "Iniciando proceso\n",
      "<Request 'http://127.0.0.1:5000/apiREST/v1' [POST]>\n"
     ]
    },
    {
     "name": "stderr",
     "output_type": "stream",
     "text": [
      "[2019-07-03 14:25:53,930] ERROR in app: Exception on /apiREST/v1 [POST]\n",
      "Traceback (most recent call last):\n",
      "  File \"C:\\ProgramData\\Anaconda3\\lib\\site-packages\\flask\\app.py\", line 2292, in wsgi_app\n",
      "    response = self.full_dispatch_request()\n",
      "  File \"C:\\ProgramData\\Anaconda3\\lib\\site-packages\\flask\\app.py\", line 1815, in full_dispatch_request\n",
      "    rv = self.handle_user_exception(e)\n",
      "  File \"C:\\ProgramData\\Anaconda3\\lib\\site-packages\\flask\\app.py\", line 1718, in handle_user_exception\n",
      "    reraise(exc_type, exc_value, tb)\n",
      "  File \"C:\\ProgramData\\Anaconda3\\lib\\site-packages\\flask\\_compat.py\", line 35, in reraise\n",
      "    raise value\n",
      "  File \"C:\\ProgramData\\Anaconda3\\lib\\site-packages\\flask\\app.py\", line 1813, in full_dispatch_request\n",
      "    rv = self.dispatch_request()\n",
      "  File \"C:\\ProgramData\\Anaconda3\\lib\\site-packages\\flask\\app.py\", line 1799, in dispatch_request\n",
      "    return self.view_functions[rule.endpoint](**req.view_args)\n",
      "  File \"<ipython-input-12-4ce2ebe268ed>\", line 31, in receive_message\n",
      "    messaging = event['messaging']\n",
      "KeyError: 'messaging'\n",
      "127.0.0.1 - - [03/Jul/2019 14:25:53] \"POST /apiREST/v1 HTTP/1.1\" 500 -\n"
     ]
    },
    {
     "name": "stdout",
     "output_type": "stream",
     "text": [
      "Iniciando proceso\n",
      "<Request 'http://127.0.0.1:5000/apiREST/v1' [POST]>\n",
      "\n",
      "_________________________________________________________________________________________________________________________\n",
      "Mesaje de la API de Facebook->  {'object': 'page', 'entry': [{'id': '2153123008120093'}]}\n"
     ]
    },
    {
     "name": "stderr",
     "output_type": "stream",
     "text": [
      "127.0.0.1 - - [03/Jul/2019 14:26:21] \"POST /apiREST/v1 HTTP/1.1\" 200 -\n"
     ]
    },
    {
     "name": "stdout",
     "output_type": "stream",
     "text": [
      "Iniciando proceso\n",
      "<Request 'http://127.0.0.1:5000/apiREST/v1' [POST]>\n",
      "\n",
      "_________________________________________________________________________________________________________________________\n",
      "Mesaje de la API de Facebook->  {'object': 'page', 'entry': [{'id': '2153123008120093', 'time': '1559826045863', 'messaging': [{'sender': {'id': '3135661523115555'}}]}]}\n"
     ]
    },
    {
     "name": "stderr",
     "output_type": "stream",
     "text": [
      "127.0.0.1 - - [03/Jul/2019 14:27:02] \"POST /apiREST/v1 HTTP/1.1\" 400 -\n"
     ]
    },
    {
     "name": "stdout",
     "output_type": "stream",
     "text": [
      "Iniciando proceso\n",
      "<Request 'http://127.0.0.1:5000/apiREST/v1' [POST]>\n"
     ]
    },
    {
     "name": "stderr",
     "output_type": "stream",
     "text": [
      "127.0.0.1 - - [03/Jul/2019 14:27:22] \"POST /apiREST/v1 HTTP/1.1\" 400 -\n"
     ]
    },
    {
     "name": "stdout",
     "output_type": "stream",
     "text": [
      "Iniciando proceso\n",
      "<Request 'http://127.0.0.1:5000/apiREST/v1' [POST]>\n"
     ]
    },
    {
     "name": "stderr",
     "output_type": "stream",
     "text": [
      "127.0.0.1 - - [03/Jul/2019 14:27:32] \"POST /apiREST/v1 HTTP/1.1\" 200 -\n"
     ]
    },
    {
     "name": "stdout",
     "output_type": "stream",
     "text": [
      "Iniciando proceso\n",
      "<Request 'http://127.0.0.1:5000/apiREST/v1' [POST]>\n",
      "\n",
      "_________________________________________________________________________________________________________________________\n",
      "Mesaje de la API de Facebook->  {'object': 'page', 'entry': [{'id': '2153123008120093', 'time': '1559826045863', 'messaging': [{'sender': {'id': '3135661523115555'}}]}]}\n"
     ]
    },
    {
     "name": "stderr",
     "output_type": "stream",
     "text": [
      "127.0.0.1 - - [03/Jul/2019 14:29:20] \"POST /apiREST/v1 HTTP/1.1\" 200 -\n"
     ]
    },
    {
     "name": "stdout",
     "output_type": "stream",
     "text": [
      "Iniciando proceso\n",
      "<Request 'http://127.0.0.1:5000/apiREST/v1' [POST]>\n",
      "\n",
      "_________________________________________________________________________________________________________________________\n",
      "Mesaje de la API de Facebook->  {'object': 'page', 'entry': [{'id': '2153123008120093', 'time': '1559826045863', 'messaging': [{'sender': {'id': '3135661523115555'}}]}]}\n"
     ]
    },
    {
     "name": "stderr",
     "output_type": "stream",
     "text": [
      "127.0.0.1 - - [03/Jul/2019 14:31:20] \"POST /apiREST/v1 HTTP/1.1\" 200 -\n"
     ]
    },
    {
     "name": "stdout",
     "output_type": "stream",
     "text": [
      "Iniciando proceso\n",
      "<Request 'http://127.0.0.1:5000/apiREST/v1' [POST]>\n",
      "\n",
      "_________________________________________________________________________________________________________________________\n",
      "Mesaje de la API de Facebook->  {'object': 'page', 'entry': [{'id': '2153123008120093', 'time': '1559826045863', 'messaging': [{'sender': {'id': '3135661523115555'}, 'recipient': {'id': '2153123008120093'}}]}]}\n"
     ]
    },
    {
     "name": "stderr",
     "output_type": "stream",
     "text": [
      "127.0.0.1 - - [03/Jul/2019 14:35:00] \"POST /apiREST/v1 HTTP/1.1\" 200 -\n"
     ]
    },
    {
     "name": "stdout",
     "output_type": "stream",
     "text": [
      "Iniciando proceso\n",
      "<Request 'http://127.0.0.1:5000/apiREST/v1' [POST]>\n",
      "\n",
      "_________________________________________________________________________________________________________________________\n",
      "Mesaje de la API de Facebook->  {'object': 'page', 'entry': [{'id': '2153123008120093', 'time': '1559826045863', 'messaging': [{'sender': {'id': '3135661523115555'}, 'recipient': {'id': '2153123008120093'}, 'timestamp': '1559826045332'}]}]}\n"
     ]
    },
    {
     "name": "stderr",
     "output_type": "stream",
     "text": [
      "127.0.0.1 - - [03/Jul/2019 14:35:14] \"POST /apiREST/v1 HTTP/1.1\" 200 -\n"
     ]
    },
    {
     "name": "stdout",
     "output_type": "stream",
     "text": [
      "Iniciando proceso\n",
      "<Request 'http://127.0.0.1:5000/apiREST/v1' [POST]>\n",
      "\n",
      "_________________________________________________________________________________________________________________________\n",
      "Mesaje de la API de Facebook->  {'object': 'page', 'entry': [{'id': '2153123008120093', 'time': '1559826045863', 'messaging': [{'sender': {'id': '3135661523115555'}, 'recipient': {'id': '2153123008120093'}, 'timestamp': '1559826045332', 'message': {'mid': 'xcmf0uXqtDLnc1PmR0ygvOHrAXMQsku05EX78-2sNmWiGJ0SFHfFJ_ZnNtZIWQraBqAlRDj430r01f3b9ApF1Q', 'seq': '0', 'text': 'hola'}}]}]}\n",
      "\n",
      "_________________________________________________________________________________________________________________________\n",
      "Mensaje enviado al Nucleo Logico->  {\"payload\": [{\"robot\": \"none\", \"id_face\": \"2153123008120093\", \"recipient_id\": \"3135661523115555\", \"access_token\": \"none\", \"content\": \"hola\", \"type_resp\": \"message\", \"state\": \"none\", \"blocktype\": \"none\", \"opciones\": \"none\", \"entitites\": \" \", \"entities\": {}}]}\n"
     ]
    }
   ],
   "source": [
    "#-------------Creación del proceso responsable de la recepción de mensajes de RabbitMQ-------------\n",
    "N_C=Nucleo_Cliente(\"Hilo_2\")\n",
    "response=None\n",
    "corr_id=' '\n",
    "#-------------Conexión con RabbitMQ----------------------------\n",
    "connection = pika.BlockingConnection(pika.ConnectionParameters(host='localhost'))\n",
    "channel = connection.channel()\n",
    "result = channel.queue_declare(exclusive=True)\n",
    "callback_queue = result.method.queue\n",
    "channel.basic_consume(N_C.on_response, no_ack=True, queue=callback_queue)\n",
    "N_C.start()\n",
    "\n",
    "#-------------Creación de la REST API con Flask-------------\n",
    "app = Flask(__name__)\n",
    "#-------------Cadena de verificacion en el proceso de conexión de un chatbot en Facebook Developers-------------\n",
    "VERIFY_TOKEN = 'CadenaDeVerificacion10'\n",
    "\n",
    "#---------------PASO 1. Recepción de mensajes enviados por la API de Facebook.--------------------------\n",
    "@app.route(\"/apiREST/v1\", methods=['GET', 'POST'])\n",
    "def receive_message():\n",
    "    print(\"Iniciando proceso\")\n",
    "    #---------------PASO 2. Inicio: Identificar el tipo de petición que se está solicitando.--------------------------\n",
    "    if request.method == 'GET':\n",
    "        #---------------PASO 2.1. Recepción de mensajes de una operacion tipo GET.--------------------------\n",
    "        content = request.get_json(force=True)\n",
    "        output = request.get_json()\n",
    "        print(\"metodo GET\",content)\n",
    "        #---------------PASO 2.1. Se obtiene la cadena de verificacion del mensaje que se recibió.--------------------------\n",
    "        token_sent = request.args.get(\"hub.verify_token\")\n",
    "        print(\"metodo GET\",token_sent)\n",
    "        #---------------PASO 2.1. Llamada a la función que valida la cadena de verificación y se retorna a la petición GET la validación de la función.--------------------------\n",
    "        return verify_fb_token(token_sent)\n",
    "    else:\n",
    "        #---------------PASO 2.2. Recepción de mensajes de una operacion tipo POST.--------------------------\n",
    "        print(request)\n",
    "        content = request.get_json(force=True)\n",
    "        output = request.get_json()\n",
    "        print('\\n_________________________________________________________________________________________________________________________')\n",
    "        print(\"Mesaje de la API de Facebook-> \",output)\n",
    "        for event in output['entry']:\n",
    "            messaging = event['messaging']\n",
    "            id_face = event['id']\n",
    "            for message in messaging:\n",
    "                if message.get('message') or message.get('postback'):\n",
    "                    recipient_id = message['sender']['id']                 \n",
    "                    enviarNucleo(recipient_id, id_face, messaging)\n",
    "    \n",
    "    return \"Message Processed\"\n",
    "        \n",
    "#-------------Iniciando la REST API-------------\n",
    "if __name__ == \"__main__\":\n",
    "    app.run()"
   ]
  },
  {
   "cell_type": "code",
   "execution_count": null,
   "metadata": {},
   "outputs": [],
   "source": []
  }
 ],
 "metadata": {
  "kernelspec": {
   "display_name": "Python 3",
   "language": "python",
   "name": "python3"
  },
  "language_info": {
   "codemirror_mode": {
    "name": "ipython",
    "version": 3
   },
   "file_extension": ".py",
   "mimetype": "text/x-python",
   "name": "python",
   "nbconvert_exporter": "python",
   "pygments_lexer": "ipython3",
   "version": "3.7.3"
  }
 },
 "nbformat": 4,
 "nbformat_minor": 2
}
