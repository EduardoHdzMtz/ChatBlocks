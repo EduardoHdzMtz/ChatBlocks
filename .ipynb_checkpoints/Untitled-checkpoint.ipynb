{
 "cells": [
  {
   "cell_type": "code",
   "execution_count": null,
   "metadata": {},
   "outputs": [
    {
     "name": "stdout",
     "output_type": "stream",
     "text": [
      " * Serving Flask app \"__main__\" (lazy loading)\n",
      " * Environment: production\n",
      "   WARNING: Do not use the development server in a production environment.\n",
      "   Use a production WSGI server instead.\n",
      " * Debug mode: off\n"
     ]
    },
    {
     "name": "stderr",
     "output_type": "stream",
     "text": [
      " * Running on http://127.0.0.1:5000/ (Press CTRL+C to quit)\n",
      "127.0.0.1 - - [03/Jul/2019 13:29:47] \"POST /api/ejemplo5 HTTP/1.1\" 200 -\n"
     ]
    },
    {
     "name": "stdout",
     "output_type": "stream",
     "text": [
      "{'nombre': 'Eduardo', 'apellido': 'Hernandez'}\n"
     ]
    }
   ],
   "source": [
    "from flask import Flask\n",
    "from flask import jsonify\n",
    "from flask import request\n",
    "app = Flask(__name__)\n",
    "@app.route('/api/ejemplo5', methods=['GET', 'POST', 'DELETE', 'PUT'])\n",
    "def ejemplo13():\n",
    "    if request.method == 'POST':\n",
    "            content = request.get_json(force=True)\n",
    "            print(content)\n",
    "            if 'nombre' in content.keys():\n",
    "                nombre =content['nombre']\n",
    "            else:\n",
    "                return jsonify(error='json no es correcto')\n",
    "            if 'apellido' in content.keys():\n",
    "                apellido =content['apellido']\n",
    "            else:\n",
    "                return jsonify(error='json no es correcto')            \n",
    "            return jsonify('Quien eres? Soy ' + nombre +  apellido)\n",
    "    elif request.method == 'GET':\n",
    "            return jsonify('soy un get')\n",
    "        \n",
    "        \n",
    "if __name__ == \"__main__\":\n",
    "    \n",
    "    app.run()"
   ]
  }
 ],
 "metadata": {
  "kernelspec": {
   "display_name": "Python 3",
   "language": "python",
   "name": "python3"
  },
  "language_info": {
   "codemirror_mode": {
    "name": "ipython",
    "version": 3
   },
   "file_extension": ".py",
   "mimetype": "text/x-python",
   "name": "python",
   "nbconvert_exporter": "python",
   "pygments_lexer": "ipython3",
   "version": "3.7.3"
  }
 },
 "nbformat": 4,
 "nbformat_minor": 2
}
